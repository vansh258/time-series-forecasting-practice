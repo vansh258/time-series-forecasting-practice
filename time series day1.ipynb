{
 "cells": [
  {
   "cell_type": "code",
   "execution_count": 1,
   "metadata": {},
   "outputs": [],
   "source": [
    "import pandas as pd"
   ]
  },
  {
   "cell_type": "code",
   "execution_count": 2,
   "metadata": {},
   "outputs": [],
   "source": [
    "sale=pd.read_csv('C://Users//vansh//Downloads//data//sales.csv')"
   ]
  },
  {
   "cell_type": "code",
   "execution_count": 5,
   "metadata": {},
   "outputs": [
    {
     "data": {
      "text/plain": [
       "str"
      ]
     },
     "execution_count": 5,
     "metadata": {},
     "output_type": "execute_result"
    }
   ],
   "source": [
    "type(sale.Date[0])\n",
    "#it is in string format convert into date syntax"
   ]
  },
  {
   "cell_type": "code",
   "execution_count": 3,
   "metadata": {},
   "outputs": [],
   "source": [
    "#to make the data column the index of the dataframe instead of default integer index\n",
    "sale=pd.read_csv('C://Users//vansh//Downloads//data//sales.csv',parse_dates=['Date'],index_col='Date')"
   ]
  },
  {
   "cell_type": "code",
   "execution_count": 4,
   "metadata": {},
   "outputs": [
    {
     "data": {
      "text/html": [
       "<div>\n",
       "<style scoped>\n",
       "    .dataframe tbody tr th:only-of-type {\n",
       "        vertical-align: middle;\n",
       "    }\n",
       "\n",
       "    .dataframe tbody tr th {\n",
       "        vertical-align: top;\n",
       "    }\n",
       "\n",
       "    .dataframe thead th {\n",
       "        text-align: right;\n",
       "    }\n",
       "</style>\n",
       "<table border=\"1\" class=\"dataframe\">\n",
       "  <thead>\n",
       "    <tr style=\"text-align: right;\">\n",
       "      <th></th>\n",
       "      <th>Sales</th>\n",
       "    </tr>\n",
       "    <tr>\n",
       "      <th>Date</th>\n",
       "      <th></th>\n",
       "    </tr>\n",
       "  </thead>\n",
       "  <tbody>\n",
       "    <tr>\n",
       "      <th>2013-01-01</th>\n",
       "      <td>13696</td>\n",
       "    </tr>\n",
       "    <tr>\n",
       "      <th>2013-01-02</th>\n",
       "      <td>13678</td>\n",
       "    </tr>\n",
       "    <tr>\n",
       "      <th>2013-01-03</th>\n",
       "      <td>14488</td>\n",
       "    </tr>\n",
       "    <tr>\n",
       "      <th>2013-01-04</th>\n",
       "      <td>15677</td>\n",
       "    </tr>\n",
       "    <tr>\n",
       "      <th>2013-01-05</th>\n",
       "      <td>16237</td>\n",
       "    </tr>\n",
       "  </tbody>\n",
       "</table>\n",
       "</div>"
      ],
      "text/plain": [
       "            Sales\n",
       "Date             \n",
       "2013-01-01  13696\n",
       "2013-01-02  13678\n",
       "2013-01-03  14488\n",
       "2013-01-04  15677\n",
       "2013-01-05  16237"
      ]
     },
     "execution_count": 4,
     "metadata": {},
     "output_type": "execute_result"
    }
   ],
   "source": [
    "sale.head()"
   ]
  },
  {
   "cell_type": "code",
   "execution_count": null,
   "metadata": {},
   "outputs": [],
   "source": []
  },
  {
   "cell_type": "code",
   "execution_count": 16,
   "metadata": {},
   "outputs": [
    {
     "data": {
      "text/plain": [
       "DatetimeIndex(['2013-01-01', '2013-01-02', '2013-01-03', '2013-01-04',\n",
       "               '2013-01-05', '2013-01-06', '2013-01-07', '2013-01-08',\n",
       "               '2013-01-09', '2013-01-10',\n",
       "               ...\n",
       "               '2017-12-22', '2017-12-23', '2017-12-24', '2017-12-25',\n",
       "               '2017-12-26', '2017-12-27', '2017-12-28', '2017-12-29',\n",
       "               '2017-12-30', '2017-12-31'],\n",
       "              dtype='datetime64[ns]', name='Date', length=1826, freq=None)"
      ]
     },
     "execution_count": 16,
     "metadata": {},
     "output_type": "execute_result"
    }
   ],
   "source": [
    "sale.index"
   ]
  },
  {
   "cell_type": "markdown",
   "metadata": {},
   "source": [
    "## Application of Date time index"
   ]
  },
  {
   "cell_type": "markdown",
   "metadata": {},
   "source": [
    "### 1. partial date index:select specific year,months and date data"
   ]
  },
  {
   "cell_type": "code",
   "execution_count": 18,
   "metadata": {},
   "outputs": [
    {
     "data": {
      "text/html": [
       "<div>\n",
       "<style scoped>\n",
       "    .dataframe tbody tr th:only-of-type {\n",
       "        vertical-align: middle;\n",
       "    }\n",
       "\n",
       "    .dataframe tbody tr th {\n",
       "        vertical-align: top;\n",
       "    }\n",
       "\n",
       "    .dataframe thead th {\n",
       "        text-align: right;\n",
       "    }\n",
       "</style>\n",
       "<table border=\"1\" class=\"dataframe\">\n",
       "  <thead>\n",
       "    <tr style=\"text-align: right;\">\n",
       "      <th></th>\n",
       "      <th>Sales</th>\n",
       "    </tr>\n",
       "    <tr>\n",
       "      <th>Date</th>\n",
       "      <th></th>\n",
       "    </tr>\n",
       "  </thead>\n",
       "  <tbody>\n",
       "    <tr>\n",
       "      <th>2013-01-01</th>\n",
       "      <td>13696</td>\n",
       "    </tr>\n",
       "    <tr>\n",
       "      <th>2013-01-02</th>\n",
       "      <td>13678</td>\n",
       "    </tr>\n",
       "    <tr>\n",
       "      <th>2013-01-03</th>\n",
       "      <td>14488</td>\n",
       "    </tr>\n",
       "    <tr>\n",
       "      <th>2013-01-04</th>\n",
       "      <td>15677</td>\n",
       "    </tr>\n",
       "    <tr>\n",
       "      <th>2013-01-05</th>\n",
       "      <td>16237</td>\n",
       "    </tr>\n",
       "  </tbody>\n",
       "</table>\n",
       "</div>"
      ],
      "text/plain": [
       "            Sales\n",
       "Date             \n",
       "2013-01-01  13696\n",
       "2013-01-02  13678\n",
       "2013-01-03  14488\n",
       "2013-01-04  15677\n",
       "2013-01-05  16237"
      ]
     },
     "execution_count": 18,
     "metadata": {},
     "output_type": "execute_result"
    }
   ],
   "source": [
    "sale['2013'].head()"
   ]
  },
  {
   "cell_type": "code",
   "execution_count": 25,
   "metadata": {},
   "outputs": [
    {
     "data": {
      "text/html": [
       "<div>\n",
       "<style scoped>\n",
       "    .dataframe tbody tr th:only-of-type {\n",
       "        vertical-align: middle;\n",
       "    }\n",
       "\n",
       "    .dataframe tbody tr th {\n",
       "        vertical-align: top;\n",
       "    }\n",
       "\n",
       "    .dataframe thead th {\n",
       "        text-align: right;\n",
       "    }\n",
       "</style>\n",
       "<table border=\"1\" class=\"dataframe\">\n",
       "  <thead>\n",
       "    <tr style=\"text-align: right;\">\n",
       "      <th></th>\n",
       "      <th>Sales</th>\n",
       "    </tr>\n",
       "    <tr>\n",
       "      <th>Date</th>\n",
       "      <th></th>\n",
       "    </tr>\n",
       "  </thead>\n",
       "  <tbody>\n",
       "    <tr>\n",
       "      <th>2013-01-01</th>\n",
       "      <td>13696</td>\n",
       "    </tr>\n",
       "    <tr>\n",
       "      <th>2013-01-02</th>\n",
       "      <td>13678</td>\n",
       "    </tr>\n",
       "    <tr>\n",
       "      <th>2013-01-03</th>\n",
       "      <td>14488</td>\n",
       "    </tr>\n",
       "    <tr>\n",
       "      <th>2013-01-04</th>\n",
       "      <td>15677</td>\n",
       "    </tr>\n",
       "    <tr>\n",
       "      <th>2013-01-05</th>\n",
       "      <td>16237</td>\n",
       "    </tr>\n",
       "  </tbody>\n",
       "</table>\n",
       "</div>"
      ],
      "text/plain": [
       "            Sales\n",
       "Date             \n",
       "2013-01-01  13696\n",
       "2013-01-02  13678\n",
       "2013-01-03  14488\n",
       "2013-01-04  15677\n",
       "2013-01-05  16237"
      ]
     },
     "execution_count": 25,
     "metadata": {},
     "output_type": "execute_result"
    }
   ],
   "source": [
    "# for 2013 jan\n",
    "sale['2013-1'].head()"
   ]
  },
  {
   "cell_type": "code",
   "execution_count": 24,
   "metadata": {},
   "outputs": [
    {
     "name": "stdout",
     "output_type": "stream",
     "text": [
      "<class 'pandas.core.frame.DataFrame'>\n",
      "DatetimeIndex: 1826 entries, 2013-01-01 to 2017-12-31\n",
      "Data columns (total 1 columns):\n",
      "Sales    1826 non-null int64\n",
      "dtypes: int64(1)\n",
      "memory usage: 28.5 KB\n"
     ]
    }
   ],
   "source": [
    "sale.info()"
   ]
  },
  {
   "cell_type": "code",
   "execution_count": 26,
   "metadata": {},
   "outputs": [
    {
     "data": {
      "text/plain": [
       "Sales    14674.322581\n",
       "dtype: float64"
      ]
     },
     "execution_count": 26,
     "metadata": {},
     "output_type": "execute_result"
    }
   ],
   "source": [
    "sale['2013-01'].mean()"
   ]
  },
  {
   "cell_type": "code",
   "execution_count": 27,
   "metadata": {},
   "outputs": [
    {
     "data": {
      "text/plain": [
       "Sales    19544\n",
       "dtype: int64"
      ]
     },
     "execution_count": 27,
     "metadata": {},
     "output_type": "execute_result"
    }
   ],
   "source": [
    "sale['2013-02'].max()"
   ]
  },
  {
   "cell_type": "code",
   "execution_count": 28,
   "metadata": {},
   "outputs": [
    {
     "data": {
      "text/plain": [
       "Sales    12858\n",
       "dtype: int64"
      ]
     },
     "execution_count": 28,
     "metadata": {},
     "output_type": "execute_result"
    }
   ],
   "source": [
    "sale['2013-02'].min()"
   ]
  },
  {
   "cell_type": "code",
   "execution_count": 29,
   "metadata": {},
   "outputs": [
    {
     "data": {
      "text/html": [
       "<div>\n",
       "<style scoped>\n",
       "    .dataframe tbody tr th:only-of-type {\n",
       "        vertical-align: middle;\n",
       "    }\n",
       "\n",
       "    .dataframe tbody tr th {\n",
       "        vertical-align: top;\n",
       "    }\n",
       "\n",
       "    .dataframe thead th {\n",
       "        text-align: right;\n",
       "    }\n",
       "</style>\n",
       "<table border=\"1\" class=\"dataframe\">\n",
       "  <thead>\n",
       "    <tr style=\"text-align: right;\">\n",
       "      <th></th>\n",
       "      <th>Sales</th>\n",
       "    </tr>\n",
       "    <tr>\n",
       "      <th>Date</th>\n",
       "      <th></th>\n",
       "    </tr>\n",
       "  </thead>\n",
       "  <tbody>\n",
       "    <tr>\n",
       "      <th>2013-01-01</th>\n",
       "      <td>13696</td>\n",
       "    </tr>\n",
       "    <tr>\n",
       "      <th>2013-01-02</th>\n",
       "      <td>13678</td>\n",
       "    </tr>\n",
       "    <tr>\n",
       "      <th>2013-01-03</th>\n",
       "      <td>14488</td>\n",
       "    </tr>\n",
       "    <tr>\n",
       "      <th>2013-01-04</th>\n",
       "      <td>15677</td>\n",
       "    </tr>\n",
       "    <tr>\n",
       "      <th>2013-01-05</th>\n",
       "      <td>16237</td>\n",
       "    </tr>\n",
       "    <tr>\n",
       "      <th>2013-01-06</th>\n",
       "      <td>17291</td>\n",
       "    </tr>\n",
       "    <tr>\n",
       "      <th>2013-01-07</th>\n",
       "      <td>11769</td>\n",
       "    </tr>\n",
       "    <tr>\n",
       "      <th>2013-01-08</th>\n",
       "      <td>13560</td>\n",
       "    </tr>\n",
       "    <tr>\n",
       "      <th>2013-01-09</th>\n",
       "      <td>13878</td>\n",
       "    </tr>\n",
       "    <tr>\n",
       "      <th>2013-01-10</th>\n",
       "      <td>14642</td>\n",
       "    </tr>\n",
       "  </tbody>\n",
       "</table>\n",
       "</div>"
      ],
      "text/plain": [
       "            Sales\n",
       "Date             \n",
       "2013-01-01  13696\n",
       "2013-01-02  13678\n",
       "2013-01-03  14488\n",
       "2013-01-04  15677\n",
       "2013-01-05  16237\n",
       "2013-01-06  17291\n",
       "2013-01-07  11769\n",
       "2013-01-08  13560\n",
       "2013-01-09  13878\n",
       "2013-01-10  14642"
      ]
     },
     "execution_count": 29,
     "metadata": {},
     "output_type": "execute_result"
    }
   ],
   "source": [
    "#get sales for a range of data\n",
    "sale['2013-01-1':'2013-01-10']"
   ]
  },
  {
   "cell_type": "code",
   "execution_count": 6,
   "metadata": {},
   "outputs": [
    {
     "data": {
      "text/html": [
       "<div>\n",
       "<style scoped>\n",
       "    .dataframe tbody tr th:only-of-type {\n",
       "        vertical-align: middle;\n",
       "    }\n",
       "\n",
       "    .dataframe tbody tr th {\n",
       "        vertical-align: top;\n",
       "    }\n",
       "\n",
       "    .dataframe thead th {\n",
       "        text-align: right;\n",
       "    }\n",
       "</style>\n",
       "<table border=\"1\" class=\"dataframe\">\n",
       "  <thead>\n",
       "    <tr style=\"text-align: right;\">\n",
       "      <th></th>\n",
       "      <th>Sales</th>\n",
       "    </tr>\n",
       "    <tr>\n",
       "      <th>Date</th>\n",
       "      <th></th>\n",
       "    </tr>\n",
       "  </thead>\n",
       "  <tbody>\n",
       "    <tr>\n",
       "      <th>2013-01-31</th>\n",
       "      <td>14674.322581</td>\n",
       "    </tr>\n",
       "    <tr>\n",
       "      <th>2013-02-28</th>\n",
       "      <td>16407.750000</td>\n",
       "    </tr>\n",
       "    <tr>\n",
       "      <th>2013-03-31</th>\n",
       "      <td>19915.548387</td>\n",
       "    </tr>\n",
       "    <tr>\n",
       "      <th>2013-04-30</th>\n",
       "      <td>22742.466667</td>\n",
       "    </tr>\n",
       "    <tr>\n",
       "      <th>2013-05-31</th>\n",
       "      <td>24620.709677</td>\n",
       "    </tr>\n",
       "    <tr>\n",
       "      <th>2013-06-30</th>\n",
       "      <td>26519.900000</td>\n",
       "    </tr>\n",
       "    <tr>\n",
       "      <th>2013-07-31</th>\n",
       "      <td>27610.387097</td>\n",
       "    </tr>\n",
       "    <tr>\n",
       "      <th>2013-08-31</th>\n",
       "      <td>24734.225806</td>\n",
       "    </tr>\n",
       "    <tr>\n",
       "      <th>2013-09-30</th>\n",
       "      <td>22996.900000</td>\n",
       "    </tr>\n",
       "    <tr>\n",
       "      <th>2013-10-31</th>\n",
       "      <td>21180.225806</td>\n",
       "    </tr>\n",
       "    <tr>\n",
       "      <th>2013-11-30</th>\n",
       "      <td>23088.100000</td>\n",
       "    </tr>\n",
       "    <tr>\n",
       "      <th>2013-12-31</th>\n",
       "      <td>16342.161290</td>\n",
       "    </tr>\n",
       "  </tbody>\n",
       "</table>\n",
       "</div>"
      ],
      "text/plain": [
       "                   Sales\n",
       "Date                    \n",
       "2013-01-31  14674.322581\n",
       "2013-02-28  16407.750000\n",
       "2013-03-31  19915.548387\n",
       "2013-04-30  22742.466667\n",
       "2013-05-31  24620.709677\n",
       "2013-06-30  26519.900000\n",
       "2013-07-31  27610.387097\n",
       "2013-08-31  24734.225806\n",
       "2013-09-30  22996.900000\n",
       "2013-10-31  21180.225806\n",
       "2013-11-30  23088.100000\n",
       "2013-12-31  16342.161290"
      ]
     },
     "execution_count": 6,
     "metadata": {},
     "output_type": "execute_result"
    }
   ],
   "source": [
    "#resample to monthly freq by average\n",
    "#.resample('M') gets the monthly data from the year and applies the mean to it to get the average monthly\n",
    "sale['2013'].resample('M').mean()"
   ]
  },
  {
   "cell_type": "code",
   "execution_count": 35,
   "metadata": {},
   "outputs": [
    {
     "data": {
      "text/html": [
       "<div>\n",
       "<style scoped>\n",
       "    .dataframe tbody tr th:only-of-type {\n",
       "        vertical-align: middle;\n",
       "    }\n",
       "\n",
       "    .dataframe tbody tr th {\n",
       "        vertical-align: top;\n",
       "    }\n",
       "\n",
       "    .dataframe thead th {\n",
       "        text-align: right;\n",
       "    }\n",
       "</style>\n",
       "<table border=\"1\" class=\"dataframe\">\n",
       "  <thead>\n",
       "    <tr style=\"text-align: right;\">\n",
       "      <th></th>\n",
       "      <th>Sales</th>\n",
       "    </tr>\n",
       "    <tr>\n",
       "      <th>Date</th>\n",
       "      <th></th>\n",
       "    </tr>\n",
       "  </thead>\n",
       "  <tbody>\n",
       "    <tr>\n",
       "      <th>2013-01-01</th>\n",
       "      <td>17018.922222</td>\n",
       "    </tr>\n",
       "    <tr>\n",
       "      <th>2013-04-01</th>\n",
       "      <td>24627.615385</td>\n",
       "    </tr>\n",
       "    <tr>\n",
       "      <th>2013-07-01</th>\n",
       "      <td>25136.847826</td>\n",
       "    </tr>\n",
       "    <tr>\n",
       "      <th>2013-10-01</th>\n",
       "      <td>20172.141304</td>\n",
       "    </tr>\n",
       "    <tr>\n",
       "      <th>2014-01-01</th>\n",
       "      <td>19548.944444</td>\n",
       "    </tr>\n",
       "    <tr>\n",
       "      <th>2014-04-01</th>\n",
       "      <td>28336.626374</td>\n",
       "    </tr>\n",
       "    <tr>\n",
       "      <th>2014-07-01</th>\n",
       "      <td>28910.108696</td>\n",
       "    </tr>\n",
       "    <tr>\n",
       "      <th>2014-10-01</th>\n",
       "      <td>23236.021739</td>\n",
       "    </tr>\n",
       "    <tr>\n",
       "      <th>2015-01-01</th>\n",
       "      <td>20386.455556</td>\n",
       "    </tr>\n",
       "    <tr>\n",
       "      <th>2015-04-01</th>\n",
       "      <td>29544.538462</td>\n",
       "    </tr>\n",
       "    <tr>\n",
       "      <th>2015-07-01</th>\n",
       "      <td>30229.163043</td>\n",
       "    </tr>\n",
       "    <tr>\n",
       "      <th>2015-10-01</th>\n",
       "      <td>24265.978261</td>\n",
       "    </tr>\n",
       "    <tr>\n",
       "      <th>2016-01-01</th>\n",
       "      <td>22068.978022</td>\n",
       "    </tr>\n",
       "    <tr>\n",
       "      <th>2016-04-01</th>\n",
       "      <td>32014.769231</td>\n",
       "    </tr>\n",
       "    <tr>\n",
       "      <th>2016-07-01</th>\n",
       "      <td>32793.945652</td>\n",
       "    </tr>\n",
       "    <tr>\n",
       "      <th>2016-10-01</th>\n",
       "      <td>26288.000000</td>\n",
       "    </tr>\n",
       "    <tr>\n",
       "      <th>2017-01-01</th>\n",
       "      <td>22903.800000</td>\n",
       "    </tr>\n",
       "    <tr>\n",
       "      <th>2017-04-01</th>\n",
       "      <td>33232.659341</td>\n",
       "    </tr>\n",
       "    <tr>\n",
       "      <th>2017-07-01</th>\n",
       "      <td>34054.989130</td>\n",
       "    </tr>\n",
       "    <tr>\n",
       "      <th>2017-10-01</th>\n",
       "      <td>27338.771739</td>\n",
       "    </tr>\n",
       "  </tbody>\n",
       "</table>\n",
       "</div>"
      ],
      "text/plain": [
       "                   Sales\n",
       "Date                    \n",
       "2013-01-01  17018.922222\n",
       "2013-04-01  24627.615385\n",
       "2013-07-01  25136.847826\n",
       "2013-10-01  20172.141304\n",
       "2014-01-01  19548.944444\n",
       "2014-04-01  28336.626374\n",
       "2014-07-01  28910.108696\n",
       "2014-10-01  23236.021739\n",
       "2015-01-01  20386.455556\n",
       "2015-04-01  29544.538462\n",
       "2015-07-01  30229.163043\n",
       "2015-10-01  24265.978261\n",
       "2016-01-01  22068.978022\n",
       "2016-04-01  32014.769231\n",
       "2016-07-01  32793.945652\n",
       "2016-10-01  26288.000000\n",
       "2017-01-01  22903.800000\n",
       "2017-04-01  33232.659341\n",
       "2017-07-01  34054.989130\n",
       "2017-10-01  27338.771739"
      ]
     },
     "execution_count": 35,
     "metadata": {},
     "output_type": "execute_result"
    }
   ],
   "source": [
    "#qs=quarter staring, q=quarter ending,a=year end frequency\n",
    "sale.resample('QS').mean()"
   ]
  },
  {
   "cell_type": "code",
   "execution_count": 40,
   "metadata": {},
   "outputs": [],
   "source": [
    "import matplotlib.pyplot as plt\n",
    "%matplotlib inline"
   ]
  },
  {
   "cell_type": "code",
   "execution_count": 41,
   "metadata": {},
   "outputs": [
    {
     "data": {
      "text/plain": [
       "Text(0.5, 1.0, 'Monthly supermarkte sales')"
      ]
     },
     "execution_count": 41,
     "metadata": {},
     "output_type": "execute_result"
    },
    {
     "data": {
      "image/png": "[encoded data removed]",
      "text/plain": [
       "<Figure size 432x288 with 1 Axes>"
      ]
     },
     "metadata": {
      "needs_background": "light"
     },
     "output_type": "display_data"
    }
   ],
   "source": [
    "sale.resample('M').mean().plot()\n",
    "plt.title('Monthly supermarkte sales')"
   ]
  },
  {
   "cell_type": "markdown",
   "metadata": {},
   "source": [
    "# read time series data as series"
   ]
  },
  {
   "cell_type": "code",
   "execution_count": 43,
   "metadata": {},
   "outputs": [],
   "source": [
    "from pandas import Series"
   ]
  },
  {
   "cell_type": "code",
   "execution_count": 48,
   "metadata": {},
   "outputs": [],
   "source": [
    "series=Series.from_csv('C://Users//vansh//Downloads//data//daily-minimum-temperatures.csv',header=0)"
   ]
  },
  {
   "cell_type": "code",
   "execution_count": 47,
   "metadata": {},
   "outputs": [
    {
     "data": {
      "text/plain": [
       "Date          Temp\n",
       "1981-01-01    20.7\n",
       "1981-01-02    17.9\n",
       "1981-01-03    18.8\n",
       "1981-01-04    14.6\n",
       "1981-01-05    15.8\n",
       "1981-01-06    15.8\n",
       "1981-01-07    15.8\n",
       "1981-01-08    17.4\n",
       "1981-01-09    21.8\n",
       "1981-01-10    20.0\n",
       "1981-01-11    16.2\n",
       "1981-01-12    13.3\n",
       "1981-01-13    16.7\n",
       "1981-01-14    21.5\n",
       "1981-01-15    25.0\n",
       "1981-01-16    20.7\n",
       "1981-01-17    20.6\n",
       "1981-01-18    24.8\n",
       "1981-01-19    17.7\n",
       "1981-01-20    15.5\n",
       "1981-01-21    18.2\n",
       "1981-01-22    12.1\n",
       "1981-01-23    14.4\n",
       "1981-01-24    16.0\n",
       "1981-01-25    16.5\n",
       "1981-01-26    18.7\n",
       "1981-01-27    19.4\n",
       "1981-01-28    17.2\n",
       "1981-01-29    15.5\n",
       "              ... \n",
       "1990-12-02    13.2\n",
       "1990-12-03    16.2\n",
       "1990-12-04    17.3\n",
       "1990-12-05    20.5\n",
       "1990-12-06    20.2\n",
       "1990-12-07    19.4\n",
       "1990-12-08    15.5\n",
       "1990-12-09    14.1\n",
       "1990-12-10    11.0\n",
       "1990-12-11    11.1\n",
       "1990-12-12    14.0\n",
       "1990-12-13    11.4\n",
       "1990-12-14    12.5\n",
       "1990-12-15    13.4\n",
       "1990-12-16    13.6\n",
       "1990-12-17    13.9\n",
       "1990-12-18    17.2\n",
       "1990-12-19    14.7\n",
       "1990-12-20    15.4\n",
       "1990-12-21    13.1\n",
       "1990-12-22    13.2\n",
       "1990-12-23    13.9\n",
       "1990-12-24    10.0\n",
       "1990-12-25    12.9\n",
       "1990-12-26    14.6\n",
       "1990-12-27    14.0\n",
       "1990-12-28    13.6\n",
       "1990-12-29    13.5\n",
       "1990-12-30    15.7\n",
       "1990-12-31    13.0\n",
       "Length: 3651, dtype: object"
      ]
     },
     "execution_count": 47,
     "metadata": {},
     "output_type": "execute_result"
    }
   ],
   "source": [
    "series"
   ]
  },
  {
   "cell_type": "markdown",
   "metadata": {},
   "source": [
    "### strptime function"
   ]
  },
  {
   "cell_type": "code",
   "execution_count": 49,
   "metadata": {},
   "outputs": [],
   "source": [
    "from datetime import datetime"
   ]
  },
  {
   "cell_type": "code",
   "execution_count": 51,
   "metadata": {},
   "outputs": [],
   "source": [
    "dt=datetime.strptime('09/19/18 13:55:26','%m/%d/%y %H:%M:%S')"
   ]
  },
  {
   "cell_type": "code",
   "execution_count": 53,
   "metadata": {},
   "outputs": [
    {
     "name": "stdout",
     "output_type": "stream",
     "text": [
      "2018-09-19\n",
      "13:55:26\n",
      "19\n",
      "9\n"
     ]
    }
   ],
   "source": [
    "print(dt.date())\n",
    "print(dt.time())\n",
    "print(dt.day)\n",
    "print(dt.month)"
   ]
  },
  {
   "cell_type": "code",
   "execution_count": 60,
   "metadata": {},
   "outputs": [],
   "source": [
    "gdp=pd.read_csv('C://Users//vansh//Downloads//data//GDPIndia.csv')"
   ]
  },
  {
   "cell_type": "code",
   "execution_count": 56,
   "metadata": {},
   "outputs": [
    {
     "data": {
      "text/html": [
       "<div>\n",
       "<style scoped>\n",
       "    .dataframe tbody tr th:only-of-type {\n",
       "        vertical-align: middle;\n",
       "    }\n",
       "\n",
       "    .dataframe tbody tr th {\n",
       "        vertical-align: top;\n",
       "    }\n",
       "\n",
       "    .dataframe thead th {\n",
       "        text-align: right;\n",
       "    }\n",
       "</style>\n",
       "<table border=\"1\" class=\"dataframe\">\n",
       "  <thead>\n",
       "    <tr style=\"text-align: right;\">\n",
       "      <th></th>\n",
       "      <th>Year</th>\n",
       "      <th>GDPpercapita</th>\n",
       "    </tr>\n",
       "  </thead>\n",
       "  <tbody>\n",
       "    <tr>\n",
       "      <th>0</th>\n",
       "      <td>1960</td>\n",
       "      <td>81.284764</td>\n",
       "    </tr>\n",
       "    <tr>\n",
       "      <th>1</th>\n",
       "      <td>1961</td>\n",
       "      <td>84.426437</td>\n",
       "    </tr>\n",
       "    <tr>\n",
       "      <th>2</th>\n",
       "      <td>1962</td>\n",
       "      <td>88.914919</td>\n",
       "    </tr>\n",
       "    <tr>\n",
       "      <th>3</th>\n",
       "      <td>1963</td>\n",
       "      <td>100.048592</td>\n",
       "    </tr>\n",
       "    <tr>\n",
       "      <th>4</th>\n",
       "      <td>1964</td>\n",
       "      <td>114.315161</td>\n",
       "    </tr>\n",
       "  </tbody>\n",
       "</table>\n",
       "</div>"
      ],
      "text/plain": [
       "   Year  GDPpercapita\n",
       "0  1960     81.284764\n",
       "1  1961     84.426437\n",
       "2  1962     88.914919\n",
       "3  1963    100.048592\n",
       "4  1964    114.315161"
      ]
     },
     "execution_count": 56,
     "metadata": {},
     "output_type": "execute_result"
    }
   ],
   "source": [
    "gdp.head()"
   ]
  },
  {
   "cell_type": "code",
   "execution_count": 57,
   "metadata": {},
   "outputs": [],
   "source": [
    "#making a date range\n",
    "date_range=pd.date_range(start='1/1/1960',end='31/12/2017',freq='A')"
   ]
  },
  {
   "cell_type": "code",
   "execution_count": 58,
   "metadata": {},
   "outputs": [
    {
     "data": {
      "text/plain": [
       "DatetimeIndex(['1960-12-31', '1961-12-31', '1962-12-31', '1963-12-31',\n",
       "               '1964-12-31', '1965-12-31', '1966-12-31', '1967-12-31',\n",
       "               '1968-12-31', '1969-12-31', '1970-12-31', '1971-12-31',\n",
       "               '1972-12-31', '1973-12-31', '1974-12-31', '1975-12-31',\n",
       "               '1976-12-31', '1977-12-31', '1978-12-31', '1979-12-31',\n",
       "               '1980-12-31', '1981-12-31', '1982-12-31', '1983-12-31',\n",
       "               '1984-12-31', '1985-12-31', '1986-12-31', '1987-12-31',\n",
       "               '1988-12-31', '1989-12-31', '1990-12-31', '1991-12-31',\n",
       "               '1992-12-31', '1993-12-31', '1994-12-31', '1995-12-31',\n",
       "               '1996-12-31', '1997-12-31', '1998-12-31', '1999-12-31',\n",
       "               '2000-12-31', '2001-12-31', '2002-12-31', '2003-12-31',\n",
       "               '2004-12-31', '2005-12-31', '2006-12-31', '2007-12-31',\n",
       "               '2008-12-31', '2009-12-31', '2010-12-31', '2011-12-31',\n",
       "               '2012-12-31', '2013-12-31', '2014-12-31', '2015-12-31',\n",
       "               '2016-12-31', '2017-12-31'],\n",
       "              dtype='datetime64[ns]', freq='A-DEC')"
      ]
     },
     "execution_count": 58,
     "metadata": {},
     "output_type": "execute_result"
    }
   ],
   "source": [
    "date_range"
   ]
  },
  {
   "cell_type": "code",
   "execution_count": 61,
   "metadata": {},
   "outputs": [],
   "source": [
    "gdp['TimeIndex']=date_range"
   ]
  },
  {
   "cell_type": "code",
   "execution_count": 63,
   "metadata": {},
   "outputs": [
    {
     "data": {
      "text/html": [
       "<div>\n",
       "<style scoped>\n",
       "    .dataframe tbody tr th:only-of-type {\n",
       "        vertical-align: middle;\n",
       "    }\n",
       "\n",
       "    .dataframe tbody tr th {\n",
       "        vertical-align: top;\n",
       "    }\n",
       "\n",
       "    .dataframe thead th {\n",
       "        text-align: right;\n",
       "    }\n",
       "</style>\n",
       "<table border=\"1\" class=\"dataframe\">\n",
       "  <thead>\n",
       "    <tr style=\"text-align: right;\">\n",
       "      <th></th>\n",
       "      <th>Year</th>\n",
       "      <th>GDPpercapita</th>\n",
       "      <th>TimeIndex</th>\n",
       "    </tr>\n",
       "  </thead>\n",
       "  <tbody>\n",
       "    <tr>\n",
       "      <th>0</th>\n",
       "      <td>1960</td>\n",
       "      <td>81.284764</td>\n",
       "      <td>1960-12-31</td>\n",
       "    </tr>\n",
       "    <tr>\n",
       "      <th>1</th>\n",
       "      <td>1961</td>\n",
       "      <td>84.426437</td>\n",
       "      <td>1961-12-31</td>\n",
       "    </tr>\n",
       "    <tr>\n",
       "      <th>2</th>\n",
       "      <td>1962</td>\n",
       "      <td>88.914919</td>\n",
       "      <td>1962-12-31</td>\n",
       "    </tr>\n",
       "    <tr>\n",
       "      <th>3</th>\n",
       "      <td>1963</td>\n",
       "      <td>100.048592</td>\n",
       "      <td>1963-12-31</td>\n",
       "    </tr>\n",
       "    <tr>\n",
       "      <th>4</th>\n",
       "      <td>1964</td>\n",
       "      <td>114.315161</td>\n",
       "      <td>1964-12-31</td>\n",
       "    </tr>\n",
       "  </tbody>\n",
       "</table>\n",
       "</div>"
      ],
      "text/plain": [
       "   Year  GDPpercapita  TimeIndex\n",
       "0  1960     81.284764 1960-12-31\n",
       "1  1961     84.426437 1961-12-31\n",
       "2  1962     88.914919 1962-12-31\n",
       "3  1963    100.048592 1963-12-31\n",
       "4  1964    114.315161 1964-12-31"
      ]
     },
     "execution_count": 63,
     "metadata": {},
     "output_type": "execute_result"
    }
   ],
   "source": [
    "gdp.head()"
   ]
  },
  {
   "cell_type": "code",
   "execution_count": 64,
   "metadata": {},
   "outputs": [
    {
     "name": "stdout",
     "output_type": "stream",
     "text": [
      "<class 'pandas.core.frame.DataFrame'>\n",
      "RangeIndex: 58 entries, 0 to 57\n",
      "Data columns (total 3 columns):\n",
      "Year            58 non-null int64\n",
      "GDPpercapita    58 non-null float64\n",
      "TimeIndex       58 non-null datetime64[ns]\n",
      "dtypes: datetime64[ns](1), float64(1), int64(1)\n",
      "memory usage: 1.4 KB\n"
     ]
    }
   ],
   "source": [
    "gdp.info()"
   ]
  },
  {
   "cell_type": "code",
   "execution_count": 67,
   "metadata": {},
   "outputs": [
    {
     "data": {
      "text/plain": [
       "<matplotlib.legend.Legend at 0x13ac8fe8668>"
      ]
     },
     "execution_count": 67,
     "metadata": {},
     "output_type": "execute_result"
    },
    {
     "data": {
      "image/png": "[encoded data removed]",
      "text/plain": [
       "<Figure size 432x288 with 1 Axes>"
      ]
     },
     "metadata": {
      "needs_background": "light"
     },
     "output_type": "display_data"
    }
   ],
   "source": [
    "plt.plot(gdp.TimeIndex,gdp.GDPpercapita)\n",
    "plt.legend(loc='best')"
   ]
  },
  {
   "cell_type": "markdown",
   "metadata": {},
   "source": [
    "## visualising a time series"
   ]
  },
  {
   "cell_type": "code",
   "execution_count": 11,
   "metadata": {},
   "outputs": [],
   "source": [
    "#methods to impute missing values\n",
    "#1. when data does not have seasonality= average of nearest neighbours\n",
    "#2. when data have seasonality= average of 2 or more yeras for the same season\n",
    "import matplotlib.pyplot as plt"
   ]
  },
  {
   "cell_type": "code",
   "execution_count": 12,
   "metadata": {},
   "outputs": [],
   "source": [
    "series=pd.read_csv('C://Users//vansh//Downloads//data//daily-minimum-temperatures.csv',header=0,parse_dates=['Date']\n",
    "                   ,index_col='Date',squeeze=True)"
   ]
  },
  {
   "cell_type": "code",
   "execution_count": 13,
   "metadata": {},
   "outputs": [
    {
     "data": {
      "text/plain": [
       "Date\n",
       "1981-01-01    20.7\n",
       "1981-01-02    17.9\n",
       "1981-01-03    18.8\n",
       "1981-01-04    14.6\n",
       "1981-01-05    15.8\n",
       "Name: Temp, dtype: float64"
      ]
     },
     "execution_count": 13,
     "metadata": {},
     "output_type": "execute_result"
    }
   ],
   "source": [
    "series.head()"
   ]
  },
  {
   "cell_type": "code",
   "execution_count": 14,
   "metadata": {},
   "outputs": [
    {
     "data": {
      "text/plain": [
       "Text(0.5, 1.0, 'Minimum temperature in Southen Hemisphere \\n from 1981 to 1990')"
      ]
     },
     "execution_count": 14,
     "metadata": {},
     "output_type": "execute_result"
    },
    {
     "data": {
      "image/png": "[encoded data removed]",
      "text/plain": [
       "<Figure size 720x720 with 1 Axes>"
      ]
     },
     "metadata": {
      "needs_background": "light"
     },
     "output_type": "display_data"
    }
   ],
   "source": [
    "series.plot(figsize=[10,10])\n",
    "plt.ylabel('Minimum Temp')\n",
    "plt.title('Minimum temperature in Southen Hemisphere \\n from 1981 to 1990')"
   ]
  },
  {
   "cell_type": "markdown",
   "metadata": {},
   "source": [
    "## the above plot shows a strong seasonality component"
   ]
  },
  {
   "cell_type": "code",
   "execution_count": 15,
   "metadata": {},
   "outputs": [],
   "source": [
    "import seaborn as sns"
   ]
  },
  {
   "cell_type": "markdown",
   "metadata": {},
   "source": [
    "## boxplot of monthly data to visualize seasonality"
   ]
  },
  {
   "cell_type": "code",
   "execution_count": 16,
   "metadata": {},
   "outputs": [
    {
     "data": {
      "text/plain": [
       "Date\n",
       "1990-01-01    14.8\n",
       "1990-01-02    13.3\n",
       "1990-01-03    15.6\n",
       "1990-01-04    14.5\n",
       "1990-01-05    14.3\n",
       "1990-01-06    15.3\n",
       "1990-01-07    16.4\n",
       "1990-01-08    14.8\n",
       "1990-01-09    17.4\n",
       "1990-01-10    18.8\n",
       "1990-01-11    22.1\n",
       "1990-01-12    19.0\n",
       "1990-01-13    15.5\n",
       "1990-01-14    15.8\n",
       "1990-01-15    14.7\n",
       "1990-01-16    10.7\n",
       "1990-01-17    11.5\n",
       "1990-01-18    15.0\n",
       "1990-01-19    14.5\n",
       "1990-01-20    14.5\n",
       "1990-01-21    13.3\n",
       "1990-01-22    14.3\n",
       "1990-01-23    14.3\n",
       "1990-01-24    20.5\n",
       "1990-01-25    15.0\n",
       "1990-01-26    17.1\n",
       "1990-01-27    16.9\n",
       "1990-01-28    16.9\n",
       "1990-01-29    13.6\n",
       "1990-01-30    16.4\n",
       "              ... \n",
       "1990-12-02    13.2\n",
       "1990-12-03    16.2\n",
       "1990-12-04    17.3\n",
       "1990-12-05    20.5\n",
       "1990-12-06    20.2\n",
       "1990-12-07    19.4\n",
       "1990-12-08    15.5\n",
       "1990-12-09    14.1\n",
       "1990-12-10    11.0\n",
       "1990-12-11    11.1\n",
       "1990-12-12    14.0\n",
       "1990-12-13    11.4\n",
       "1990-12-14    12.5\n",
       "1990-12-15    13.4\n",
       "1990-12-16    13.6\n",
       "1990-12-17    13.9\n",
       "1990-12-18    17.2\n",
       "1990-12-19    14.7\n",
       "1990-12-20    15.4\n",
       "1990-12-21    13.1\n",
       "1990-12-22    13.2\n",
       "1990-12-23    13.9\n",
       "1990-12-24    10.0\n",
       "1990-12-25    12.9\n",
       "1990-12-26    14.6\n",
       "1990-12-27    14.0\n",
       "1990-12-28    13.6\n",
       "1990-12-29    13.5\n",
       "1990-12-30    15.7\n",
       "1990-12-31    13.0\n",
       "Name: Temp, Length: 365, dtype: float64"
      ]
     },
     "execution_count": 16,
     "metadata": {},
     "output_type": "execute_result"
    }
   ],
   "source": [
    "\n",
    "one_year=series['1990']\n",
    "one_year"
   ]
  },
  {
   "cell_type": "code",
   "execution_count": 17,
   "metadata": {},
   "outputs": [],
   "source": [
    "groups=one_year.groupby(pd.Grouper(freq='M'))"
   ]
  },
  {
   "cell_type": "code",
   "execution_count": 18,
   "metadata": {},
   "outputs": [],
   "source": [
    "months=pd.DataFrame()"
   ]
  },
  {
   "cell_type": "code",
   "execution_count": 21,
   "metadata": {},
   "outputs": [
    {
     "data": {
      "text/plain": [
       "Date\n",
       "1990-01-01    14.8\n",
       "1990-01-02    13.3\n",
       "1990-01-03    15.6\n",
       "1990-01-04    14.5\n",
       "1990-01-05    14.3\n",
       "1990-02-01    12.0\n",
       "1990-02-02    12.2\n",
       "1990-02-03    14.8\n",
       "1990-02-04    14.8\n",
       "1990-02-05    14.4\n",
       "1990-03-01    19.3\n",
       "1990-03-02    17.3\n",
       "1990-03-03    19.0\n",
       "1990-03-04    19.8\n",
       "1990-03-05    19.3\n",
       "1990-04-01    15.3\n",
       "1990-04-02    14.7\n",
       "1990-04-03    11.0\n",
       "1990-04-04    12.2\n",
       "1990-04-05    14.2\n",
       "1990-05-01    13.0\n",
       "1990-05-02    13.9\n",
       "1990-05-03    12.6\n",
       "1990-05-04    14.3\n",
       "1990-05-05    16.0\n",
       "1990-06-01     9.7\n",
       "1990-06-02     8.2\n",
       "1990-06-03     8.4\n",
       "1990-06-04     8.5\n",
       "1990-06-05    10.4\n",
       "1990-07-01     7.4\n",
       "1990-07-02     7.3\n",
       "1990-07-03     7.7\n",
       "1990-07-04     7.7\n",
       "1990-07-05     9.3\n",
       "1990-08-01     6.8\n",
       "1990-08-02     9.8\n",
       "1990-08-03     5.7\n",
       "1990-08-04     8.6\n",
       "1990-08-05    10.6\n",
       "1990-09-01     6.0\n",
       "1990-09-02     9.5\n",
       "1990-09-03     8.6\n",
       "1990-09-04     7.6\n",
       "1990-09-05    10.4\n",
       "1990-10-01    11.3\n",
       "1990-10-02    10.5\n",
       "1990-10-03     9.9\n",
       "1990-10-04    11.0\n",
       "1990-10-05    14.0\n",
       "1990-11-01    15.4\n",
       "1990-11-02    11.8\n",
       "1990-11-03    13.0\n",
       "1990-11-04    11.1\n",
       "1990-11-05    12.5\n",
       "1990-12-01    13.3\n",
       "1990-12-02    13.2\n",
       "1990-12-03    16.2\n",
       "1990-12-04    17.3\n",
       "1990-12-05    20.5\n",
       "Name: Temp, dtype: float64"
      ]
     },
     "execution_count": 21,
     "metadata": {},
     "output_type": "execute_result"
    }
   ],
   "source": [
    "groups.head()"
   ]
  },
  {
   "cell_type": "code",
   "execution_count": 23,
   "metadata": {},
   "outputs": [
    {
     "name": "stdout",
     "output_type": "stream",
     "text": [
      "      1     2     3     4     5     6     7     8     9     10    11    12\n",
      "0   14.8  12.0  19.3  15.3  13.0   9.7   7.4   6.8   6.0  11.3  15.4  13.3\n",
      "1   13.3  12.2  17.3  14.7  13.9   8.2   7.3   9.8   9.5  10.5  11.8  13.2\n",
      "2   15.6  14.8  19.0  11.0  12.6   8.4   7.7   5.7   8.6   9.9  13.0  16.2\n",
      "3   14.5  14.8  19.8  12.2  14.3   8.5   7.7   8.6   7.6  11.0  11.1  17.3\n",
      "4   14.3  14.4  19.3  14.2  16.0  10.4   9.3  10.6  10.4  14.0  12.5  20.5\n",
      "5   15.3  12.9  17.2  17.0  13.3   6.8   4.4   7.8  10.3   9.2  18.3  20.2\n",
      "6   16.4  13.4  14.2  15.8   7.0   6.0   5.7   7.7   7.5   9.8  19.2  19.4\n",
      "7   14.8  15.9  10.3  15.2   4.9   6.6  10.2   8.6   3.0   6.0  15.4  15.5\n",
      "8   17.4  16.1  13.0  15.1   6.9   7.8  10.2   6.5   5.3   9.8  13.1  14.1\n",
      "9   18.8  17.6  15.3  14.7  13.7  10.3   9.3   6.9  10.5   9.2  11.5  11.0\n",
      "10  22.1  15.6  15.0  18.5  10.6   7.2   5.4   6.4  14.6  11.8   8.6  11.1\n",
      "11  19.0  15.0  12.1  16.4  12.3   7.4   5.0   8.5  12.6  10.3  12.6  14.0\n",
      "12  15.5  13.0   9.2  18.4  11.1  11.4   7.6   7.8   9.8   7.5  13.8  11.4\n",
      "13  15.8  14.1  11.0  15.1  10.2   5.4   9.6   9.3   7.2   7.7  14.6  12.5\n",
      "14  14.7  17.3  15.0   9.9   9.5   4.4  10.4   8.4  10.1  15.8  13.2  13.4\n",
      "15  10.7  15.7  11.6  10.2   8.9   6.4  11.2   7.8  10.4  14.6  12.3  13.6\n",
      "16  11.5  18.6  11.6  12.6  13.4   9.3   9.1   7.4   3.7  10.5   8.8  13.9\n",
      "17  15.0  12.7  15.1  13.2   9.1   7.7  11.2   7.7   7.3  11.3  10.7  17.2\n",
      "18  14.5  14.0  15.0  11.5   9.4   8.1   6.8   8.9  11.6  10.9   9.9  14.7\n",
      "19  14.5  13.7  13.6  13.8   8.7   8.3   8.3   9.7  16.3   6.4   8.3  15.4\n",
      "20  13.3  16.3  12.5  14.5   5.8   9.1   9.7   9.9   9.6  10.9  15.0  13.1\n",
      "21  14.3  20.0  14.3  14.7   4.5   7.7   9.6   6.1   6.8   9.0  12.2  13.2\n",
      "22  14.3  17.0  16.0  11.2   7.2  10.6   9.8   6.6   5.2  10.9  10.5  13.9\n",
      "23  20.5  15.2  17.4  12.7  10.0   8.2  10.8   7.6  10.6  12.4  11.1  10.0\n",
      "24  15.0  16.5  16.9  13.7  10.5   7.9   9.2   7.4  16.3  11.6  13.0  12.9\n",
      "25  17.1  16.5  18.0  11.5  10.7   5.2   6.5   8.0   9.8  13.3  12.9  14.6\n",
      "26  16.9  17.3  20.6  10.4   8.2   5.9   8.1   2.1   4.6  14.4   8.8  14.0\n",
      "27  16.9  19.1  14.2   8.9   6.1   3.7   7.3   5.9  11.1  18.4  14.7  13.6\n",
      "28  13.6   NaN  10.9  11.1   4.5   5.6   7.9  11.6   8.7  13.6  14.7  13.5\n",
      "29  16.4   NaN  11.9   9.5   6.1   9.4   6.0   8.6  10.0  14.9  12.7  15.7\n",
      "30  16.1   NaN  13.3   NaN   9.8   NaN   5.0   7.9   NaN  14.8   NaN  13.0\n"
     ]
    }
   ],
   "source": [
    "months=pd.concat([pd.DataFrame(x[1].values) for x in groups],axis=1)\n",
    "months=pd.DataFrame(months)\n",
    "months.columns=range(1,13)\n",
    "print(months)"
   ]
  },
  {
   "cell_type": "code",
   "execution_count": 24,
   "metadata": {},
   "outputs": [
    {
     "name": "stdout",
     "output_type": "stream",
     "text": [
      "[14.8 13.3 15.6 14.5 14.3 15.3 16.4 14.8 17.4 18.8 22.1 19.  15.5 15.8\n",
      " 14.7 10.7 11.5 15.  14.5 14.5 13.3 14.3 14.3 20.5 15.  17.1 16.9 16.9\n",
      " 13.6 16.4 16.1]\n",
      "[12.  12.2 14.8 14.8 14.4 12.9 13.4 15.9 16.1 17.6 15.6 15.  13.  14.1\n",
      " 17.3 15.7 18.6 12.7 14.  13.7 16.3 20.  17.  15.2 16.5 16.5 17.3 19.1]\n",
      "[19.3 17.3 19.  19.8 19.3 17.2 14.2 10.3 13.  15.3 15.  12.1  9.2 11.\n",
      " 15.  11.6 11.6 15.1 15.  13.6 12.5 14.3 16.  17.4 16.9 18.  20.6 14.2\n",
      " 10.9 11.9 13.3]\n",
      "[15.3 14.7 11.  12.2 14.2 17.  15.8 15.2 15.1 14.7 18.5 16.4 18.4 15.1\n",
      "  9.9 10.2 12.6 13.2 11.5 13.8 14.5 14.7 11.2 12.7 13.7 11.5 10.4  8.9\n",
      " 11.1  9.5]\n",
      "[13.  13.9 12.6 14.3 16.  13.3  7.   4.9  6.9 13.7 10.6 12.3 11.1 10.2\n",
      "  9.5  8.9 13.4  9.1  9.4  8.7  5.8  4.5  7.2 10.  10.5 10.7  8.2  6.1\n",
      "  4.5  6.1  9.8]\n",
      "[ 9.7  8.2  8.4  8.5 10.4  6.8  6.   6.6  7.8 10.3  7.2  7.4 11.4  5.4\n",
      "  4.4  6.4  9.3  7.7  8.1  8.3  9.1  7.7 10.6  8.2  7.9  5.2  5.9  3.7\n",
      "  5.6  9.4]\n",
      "[ 7.4  7.3  7.7  7.7  9.3  4.4  5.7 10.2 10.2  9.3  5.4  5.   7.6  9.6\n",
      " 10.4 11.2  9.1 11.2  6.8  8.3  9.7  9.6  9.8 10.8  9.2  6.5  8.1  7.3\n",
      "  7.9  6.   5. ]\n",
      "[ 6.8  9.8  5.7  8.6 10.6  7.8  7.7  8.6  6.5  6.9  6.4  8.5  7.8  9.3\n",
      "  8.4  7.8  7.4  7.7  8.9  9.7  9.9  6.1  6.6  7.6  7.4  8.   2.1  5.9\n",
      " 11.6  8.6  7.9]\n",
      "[ 6.   9.5  8.6  7.6 10.4 10.3  7.5  3.   5.3 10.5 14.6 12.6  9.8  7.2\n",
      " 10.1 10.4  3.7  7.3 11.6 16.3  9.6  6.8  5.2 10.6 16.3  9.8  4.6 11.1\n",
      "  8.7 10. ]\n",
      "[11.3 10.5  9.9 11.  14.   9.2  9.8  6.   9.8  9.2 11.8 10.3  7.5  7.7\n",
      " 15.8 14.6 10.5 11.3 10.9  6.4 10.9  9.  10.9 12.4 11.6 13.3 14.4 18.4\n",
      " 13.6 14.9 14.8]\n",
      "[15.4 11.8 13.  11.1 12.5 18.3 19.2 15.4 13.1 11.5  8.6 12.6 13.8 14.6\n",
      " 13.2 12.3  8.8 10.7  9.9  8.3 15.  12.2 10.5 11.1 13.  12.9  8.8 14.7\n",
      " 14.7 12.7]\n",
      "[13.3 13.2 16.2 17.3 20.5 20.2 19.4 15.5 14.1 11.  11.1 14.  11.4 12.5\n",
      " 13.4 13.6 13.9 17.2 14.7 15.4 13.1 13.2 13.9 10.  12.9 14.6 14.  13.6\n",
      " 13.5 15.7 13. ]\n"
     ]
    }
   ],
   "source": [
    "for x in groups:\n",
    "    print(x[1].values)"
   ]
  },
  {
   "cell_type": "code",
   "execution_count": 124,
   "metadata": {},
   "outputs": [
    {
     "data": {
      "text/plain": [
       "<matplotlib.axes._subplots.AxesSubplot at 0x13aca090ac8>"
      ]
     },
     "execution_count": 124,
     "metadata": {},
     "output_type": "execute_result"
    },
    {
     "data": {
      "image/png": "[encoded data removed]",
      "text/plain": [
       "<Figure size 864x1152 with 1 Axes>"
      ]
     },
     "metadata": {
      "needs_background": "light"
     },
     "output_type": "display_data"
    }
   ],
   "source": [
    "months.boxplot(grid=False,figsize=(12,16))"
   ]
  },
  {
   "cell_type": "code",
   "execution_count": 133,
   "metadata": {},
   "outputs": [],
   "source": [
    "groups=series.groupby(pd.Grouper(freq='A'))"
   ]
  },
  {
   "cell_type": "code",
   "execution_count": 126,
   "metadata": {},
   "outputs": [],
   "source": [
    "years=pd.DataFrame()\n",
    "for name,group in groups:\n",
    "    years[name.year]=group.values\n",
    "#years=pd.concat([pd.DataFrame(x[1].values) for x in groups],axis=1)\n",
    "#years=pd.DataFrame(years)"
   ]
  },
  {
   "cell_type": "code",
   "execution_count": 127,
   "metadata": {},
   "outputs": [
    {
     "name": "stdout",
     "output_type": "stream",
     "text": [
      "     1981  1982  1983  1984  1985  1986  1987  1988  1989  1990\n",
      "0    20.7  17.0  18.4  19.5  13.3  12.9  12.3  15.3  14.3  14.8\n",
      "1    17.9  15.0  15.0  17.1  15.2  13.8  13.8  14.3  17.4  13.3\n",
      "2    18.8  13.5  10.9  17.1  13.1  10.6  15.3  13.5  18.5  15.6\n",
      "3    14.6  15.2  11.4  12.0  12.7  12.6  15.6  15.0  16.8  14.5\n",
      "4    15.8  13.0  14.8  11.0  14.6  13.7  16.2  13.6  11.5  14.3\n",
      "5    15.8  12.5  12.1  16.3  11.0  12.6  16.3  15.2   9.5  15.3\n",
      "6    15.8  14.1  12.8  16.1  13.2  13.1  16.8  17.0  12.2  16.4\n",
      "7    17.4  14.8  16.2  13.0  12.2  15.4  11.0  18.7  15.7  14.8\n",
      "8    21.8  16.2  15.5  13.4  14.4  11.9   8.5  16.5  16.3  17.4\n",
      "9    20.0  15.8  13.0  15.2  13.7  13.8  13.2  17.4  13.6  18.8\n",
      "10   16.2  19.1  10.5  12.5  14.5  14.4  13.0  18.3  12.6  22.1\n",
      "11   13.3  22.2   9.1  14.3  14.1  15.2  12.4  18.3  13.8  19.0\n",
      "12   16.7  15.9  10.5  16.5  14.4  12.5  13.0  22.4  12.1  15.5\n",
      "13   21.5  13.0  11.8  18.6  19.7  12.2  16.6  21.4  13.4  15.8\n",
      "14   25.0  14.1  12.7  18.0  16.5  16.1  12.0  20.9  17.3  14.7\n",
      "15   20.7  15.8  12.7  18.2  15.9  14.6  12.4  17.6  19.4  10.7\n",
      "16   20.6  24.0  11.5  11.4  11.8  11.6  15.0  15.5  16.6  11.5\n",
      "17   24.8  18.0  13.8  11.9  12.0  13.1  11.8  16.6  13.9  15.0\n",
      "18   17.7  19.7  13.3  12.2  11.4  12.8  11.6  16.2  13.1  14.5\n",
      "19   15.5  25.2  11.6  14.8  14.4  15.2  12.2  15.6  16.0  14.5\n",
      "20   18.2  20.5  15.4  13.1  12.4  13.8  13.7  14.5  14.5  13.3\n",
      "21   12.1  19.3  12.4  12.7  15.1  15.0  11.2  14.0  15.0  14.3\n",
      "22   14.4  15.8  16.9  10.5  15.6  13.5  12.4  15.6  12.6  14.3\n",
      "23   16.0  17.0  14.7  13.8  15.2  11.8  11.5  12.3  12.5  20.5\n",
      "24   16.5  18.4  10.6  18.8  12.8  15.3  13.8  11.6  15.2  15.0\n",
      "25   18.7  13.3  15.6  13.9  13.3  13.5  15.7  12.6  16.2  17.1\n",
      "26   19.4  14.6  10.7  11.2  17.5  15.3  12.9  14.9  16.5  16.9\n",
      "27   17.2  12.5  12.6  10.6  15.4  13.8  11.5  17.3  20.1  16.9\n",
      "28   15.5  17.0  13.8  14.7  13.5  15.8  11.0  21.4  20.6  13.6\n",
      "29   15.1  17.1  14.3  13.1  16.7  17.4  12.7  23.4  16.9  16.4\n",
      "..    ...   ...   ...   ...   ...   ...   ...   ...   ...   ...\n",
      "335  10.5  10.3  11.4  12.6  15.2  14.5  11.1  12.0  18.3  13.2\n",
      "336  14.2  10.5  13.0  10.8  15.0  18.5   8.2  17.4  13.7  16.2\n",
      "337  11.5  11.0  13.2   9.1  16.4  15.4   9.4  16.8  13.3  17.3\n",
      "338  13.0  11.9  12.0  11.0  16.1  13.1  12.7  16.2  10.6  20.5\n",
      "339  15.0  13.0  15.3  13.0  14.6  16.3  11.6  13.0  14.1  20.2\n",
      "340  14.7  12.2  12.7  12.8  18.2  20.2  11.0  12.5  16.0  19.4\n",
      "341  12.6  10.6  12.1   9.9  16.4  11.5  11.3  12.4  16.5  15.5\n",
      "342  12.5  13.0  13.8  11.6  16.6  12.4  13.4  16.1  14.1  14.1\n",
      "343  13.5  13.0  10.9  10.5  14.7  10.9  14.9  20.2  18.7  11.0\n",
      "344  14.8  12.2  12.0  15.9  15.8  12.7  15.2  14.3  16.2  11.1\n",
      "345  17.2  12.6  16.5  12.2  14.1  12.2  13.9  11.0  14.8  14.0\n",
      "346   9.7  18.7  15.0  13.0  13.5  12.4  15.0  14.4  12.6  11.4\n",
      "347  12.1  15.2  11.2  12.5  13.6   9.8  16.2  15.7  10.4  12.5\n",
      "348  12.8  15.3  13.9  12.5  13.7   8.5  17.7  19.7  12.2  13.4\n",
      "349  11.2  13.9  15.0  11.4  13.6  14.7  20.5  20.7  12.6  13.6\n",
      "350  16.4  15.8  14.8  12.1  12.1  12.0  14.7  23.9  12.1  13.9\n",
      "351  15.6  13.0  15.0  16.8  12.7  10.3  12.5  16.6  17.3  17.2\n",
      "352  13.3  13.0  13.3  12.1  13.3  11.0  10.9  17.5  16.4  14.7\n",
      "353  11.0  13.7  20.4  11.3  14.2  10.2  12.8  14.9  12.6  15.4\n",
      "354  11.1  12.0  18.0  10.4  15.0  12.6  12.7  13.6  12.3  13.1\n",
      "355  15.0  10.8  12.2  14.2  13.7  11.6  11.2  11.9  11.8  13.2\n",
      "356  12.8  15.6  16.7  11.4  12.0   9.7  11.4  15.2  12.0  13.9\n",
      "357  15.0  15.3  13.8  13.7  13.1  13.4  11.2  17.3  12.7  10.0\n",
      "358  14.2  13.9  17.5  16.5  13.2  10.5  12.1  19.8  16.4  12.9\n",
      "359  14.0  13.0  15.0  12.8  13.3  14.7  12.7  15.8  16.0  14.6\n",
      "360  15.5  15.3  13.9  12.2  11.5  14.6  16.2   9.5  13.3  14.0\n",
      "361  13.3  16.3  11.1  12.0  10.8  14.2  14.2  12.9  11.7  13.6\n",
      "362  15.6  15.8  16.1  12.6  12.0  13.2  14.3  12.9  10.4  13.5\n",
      "363  15.2  17.7  20.4  16.0  16.3  11.7  13.3  14.8  14.4  15.7\n",
      "364  17.4  16.3  18.0  16.4  14.4  17.2  16.7  14.1  12.7  13.0\n",
      "\n",
      "[365 rows x 10 columns]\n"
     ]
    }
   ],
   "source": [
    "print(years)"
   ]
  },
  {
   "cell_type": "code",
   "execution_count": 130,
   "metadata": {},
   "outputs": [
    {
     "data": {
      "text/plain": [
       "<matplotlib.axes._subplots.AxesSubplot at 0x13acf616cf8>"
      ]
     },
     "execution_count": 130,
     "metadata": {},
     "output_type": "execute_result"
    },
    {
     "data": {
      "image/png": "[encoded data removed]",
      "text/plain": [
       "<Figure size 720x720 with 1 Axes>"
      ]
     },
     "metadata": {
      "needs_background": "light"
     },
     "output_type": "display_data"
    }
   ],
   "source": [
    "years.boxplot(figsize=(10,10),grid=False)"
   ]
  },
  {
   "cell_type": "code",
   "execution_count": 135,
   "metadata": {},
   "outputs": [
    {
     "data": {
      "text/html": [
       "<div>\n",
       "<style scoped>\n",
       "    .dataframe tbody tr th:only-of-type {\n",
       "        vertical-align: middle;\n",
       "    }\n",
       "\n",
       "    .dataframe tbody tr th {\n",
       "        vertical-align: top;\n",
       "    }\n",
       "\n",
       "    .dataframe thead th {\n",
       "        text-align: right;\n",
       "    }\n",
       "</style>\n",
       "<table border=\"1\" class=\"dataframe\">\n",
       "  <thead>\n",
       "    <tr style=\"text-align: right;\">\n",
       "      <th></th>\n",
       "      <th>Year</th>\n",
       "      <th>Month</th>\n",
       "      <th>Food</th>\n",
       "    </tr>\n",
       "  </thead>\n",
       "  <tbody>\n",
       "    <tr>\n",
       "      <th>0</th>\n",
       "      <td>1992</td>\n",
       "      <td>Jan</td>\n",
       "      <td>164083</td>\n",
       "    </tr>\n",
       "    <tr>\n",
       "      <th>1</th>\n",
       "      <td>1992</td>\n",
       "      <td>Feb</td>\n",
       "      <td>164260</td>\n",
       "    </tr>\n",
       "    <tr>\n",
       "      <th>2</th>\n",
       "      <td>1992</td>\n",
       "      <td>Mar</td>\n",
       "      <td>163747</td>\n",
       "    </tr>\n",
       "    <tr>\n",
       "      <th>3</th>\n",
       "      <td>1992</td>\n",
       "      <td>Apr</td>\n",
       "      <td>164759</td>\n",
       "    </tr>\n",
       "    <tr>\n",
       "      <th>4</th>\n",
       "      <td>1992</td>\n",
       "      <td>May</td>\n",
       "      <td>165617</td>\n",
       "    </tr>\n",
       "  </tbody>\n",
       "</table>\n",
       "</div>"
      ],
      "text/plain": [
       "   Year Month    Food\n",
       "0  1992   Jan  164083\n",
       "1  1992   Feb  164260\n",
       "2  1992   Mar  163747\n",
       "3  1992   Apr  164759\n",
       "4  1992   May  165617"
      ]
     },
     "execution_count": 135,
     "metadata": {},
     "output_type": "execute_result"
    }
   ],
   "source": [
    "retail=pd.read_csv('C://Users//vansh//Downloads//data//RetailFood.csv')\n",
    "retail.head()"
   ]
  },
  {
   "cell_type": "code",
   "execution_count": 146,
   "metadata": {},
   "outputs": [],
   "source": [
    "retail=pd.read_csv('C://Users//vansh//Downloads//data//RetailFood.csv',parse_dates=[['Year','Month']],index_col=0)"
   ]
  },
  {
   "cell_type": "code",
   "execution_count": 147,
   "metadata": {},
   "outputs": [
    {
     "data": {
      "text/html": [
       "<div>\n",
       "<style scoped>\n",
       "    .dataframe tbody tr th:only-of-type {\n",
       "        vertical-align: middle;\n",
       "    }\n",
       "\n",
       "    .dataframe tbody tr th {\n",
       "        vertical-align: top;\n",
       "    }\n",
       "\n",
       "    .dataframe thead th {\n",
       "        text-align: right;\n",
       "    }\n",
       "</style>\n",
       "<table border=\"1\" class=\"dataframe\">\n",
       "  <thead>\n",
       "    <tr style=\"text-align: right;\">\n",
       "      <th></th>\n",
       "      <th>Food</th>\n",
       "    </tr>\n",
       "    <tr>\n",
       "      <th>Year_Month</th>\n",
       "      <th></th>\n",
       "    </tr>\n",
       "  </thead>\n",
       "  <tbody>\n",
       "    <tr>\n",
       "      <th>1992-01-01</th>\n",
       "      <td>164083</td>\n",
       "    </tr>\n",
       "    <tr>\n",
       "      <th>1992-02-01</th>\n",
       "      <td>164260</td>\n",
       "    </tr>\n",
       "    <tr>\n",
       "      <th>1992-03-01</th>\n",
       "      <td>163747</td>\n",
       "    </tr>\n",
       "    <tr>\n",
       "      <th>1992-04-01</th>\n",
       "      <td>164759</td>\n",
       "    </tr>\n",
       "    <tr>\n",
       "      <th>1992-05-01</th>\n",
       "      <td>165617</td>\n",
       "    </tr>\n",
       "  </tbody>\n",
       "</table>\n",
       "</div>"
      ],
      "text/plain": [
       "              Food\n",
       "Year_Month        \n",
       "1992-01-01  164083\n",
       "1992-02-01  164260\n",
       "1992-03-01  163747\n",
       "1992-04-01  164759\n",
       "1992-05-01  165617"
      ]
     },
     "execution_count": 147,
     "metadata": {},
     "output_type": "execute_result"
    }
   ],
   "source": [
    "retail.head()"
   ]
  },
  {
   "cell_type": "code",
   "execution_count": 148,
   "metadata": {},
   "outputs": [
    {
     "name": "stdout",
     "output_type": "stream",
     "text": [
      "<class 'pandas.core.frame.DataFrame'>\n",
      "DatetimeIndex: 310 entries, 1992-01-01 to 2017-10-01\n",
      "Data columns (total 1 columns):\n",
      "Food    310 non-null int64\n",
      "dtypes: int64(1)\n",
      "memory usage: 4.8 KB\n"
     ]
    }
   ],
   "source": [
    "reatil.info()"
   ]
  },
  {
   "cell_type": "code",
   "execution_count": 150,
   "metadata": {},
   "outputs": [
    {
     "data": {
      "text/plain": [
       "<matplotlib.axes._subplots.AxesSubplot at 0x13acfead8d0>"
      ]
     },
     "execution_count": 150,
     "metadata": {},
     "output_type": "execute_result"
    },
    {
     "data": {
      "image/png": "[encoded data removed]",
      "text/plain": [
       "<Figure size 720x720 with 1 Axes>"
      ]
     },
     "metadata": {
      "needs_background": "light"
     },
     "output_type": "display_data"
    }
   ],
   "source": [
    "retail.plot(figsize=(10,10))"
   ]
  },
  {
   "cell_type": "markdown",
   "metadata": {},
   "source": [
    "## detrend by differencing the data\n"
   ]
  },
  {
   "cell_type": "code",
   "execution_count": 151,
   "metadata": {},
   "outputs": [],
   "source": [
    "x=retail.Food"
   ]
  },
  {
   "cell_type": "code",
   "execution_count": 152,
   "metadata": {},
   "outputs": [],
   "source": [
    "diff=list()\n",
    "for i in range(1,len(x)):\n",
    "    value=x[i]-x[i-1]\n",
    "    diff.append(value)"
   ]
  },
  {
   "cell_type": "code",
   "execution_count": 153,
   "metadata": {},
   "outputs": [
    {
     "data": {
      "text/plain": [
       "[<matplotlib.lines.Line2D at 0x13acf2872b0>]"
      ]
     },
     "execution_count": 153,
     "metadata": {},
     "output_type": "execute_result"
    },
    {
     "data": {
      "image/png": "[encoded data removed]",
      "text/plain": [
       "<Figure size 432x288 with 1 Axes>"
      ]
     },
     "metadata": {
      "needs_background": "light"
     },
     "output_type": "display_data"
    }
   ],
   "source": [
    "plt.plot(diff)"
   ]
  },
  {
   "cell_type": "code",
   "execution_count": 155,
   "metadata": {},
   "outputs": [],
   "source": [
    "tractor=pd.read_csv('C://Users//vansh//Downloads//data//TractorSales1.csv')"
   ]
  },
  {
   "cell_type": "code",
   "execution_count": 157,
   "metadata": {},
   "outputs": [
    {
     "data": {
      "text/html": [
       "<div>\n",
       "<style scoped>\n",
       "    .dataframe tbody tr th:only-of-type {\n",
       "        vertical-align: middle;\n",
       "    }\n",
       "\n",
       "    .dataframe tbody tr th {\n",
       "        vertical-align: top;\n",
       "    }\n",
       "\n",
       "    .dataframe thead th {\n",
       "        text-align: right;\n",
       "    }\n",
       "</style>\n",
       "<table border=\"1\" class=\"dataframe\">\n",
       "  <thead>\n",
       "    <tr style=\"text-align: right;\">\n",
       "      <th></th>\n",
       "      <th>Month-Year</th>\n",
       "      <th>Number of Tractor Sold</th>\n",
       "    </tr>\n",
       "  </thead>\n",
       "  <tbody>\n",
       "    <tr>\n",
       "      <th>0</th>\n",
       "      <td>3-Jan</td>\n",
       "      <td>141</td>\n",
       "    </tr>\n",
       "    <tr>\n",
       "      <th>1</th>\n",
       "      <td>3-Feb</td>\n",
       "      <td>157</td>\n",
       "    </tr>\n",
       "    <tr>\n",
       "      <th>2</th>\n",
       "      <td>3-Mar</td>\n",
       "      <td>185</td>\n",
       "    </tr>\n",
       "    <tr>\n",
       "      <th>3</th>\n",
       "      <td>3-Apr</td>\n",
       "      <td>199</td>\n",
       "    </tr>\n",
       "    <tr>\n",
       "      <th>4</th>\n",
       "      <td>3-May</td>\n",
       "      <td>203</td>\n",
       "    </tr>\n",
       "  </tbody>\n",
       "</table>\n",
       "</div>"
      ],
      "text/plain": [
       "  Month-Year  Number of Tractor Sold\n",
       "0      3-Jan                     141\n",
       "1      3-Feb                     157\n",
       "2      3-Mar                     185\n",
       "3      3-Apr                     199\n",
       "4      3-May                     203"
      ]
     },
     "execution_count": 157,
     "metadata": {},
     "output_type": "execute_result"
    }
   ],
   "source": [
    "tractor.head()"
   ]
  },
  {
   "cell_type": "code",
   "execution_count": 158,
   "metadata": {},
   "outputs": [],
   "source": [
    "dates=pd.date_range(start='2003-01-01',freq='MS',periods=len(tractor))"
   ]
  },
  {
   "cell_type": "code",
   "execution_count": 159,
   "metadata": {},
   "outputs": [],
   "source": [
    "tractor['Month']=dates.month"
   ]
  },
  {
   "cell_type": "code",
   "execution_count": 160,
   "metadata": {},
   "outputs": [
    {
     "data": {
      "text/html": [
       "<div>\n",
       "<style scoped>\n",
       "    .dataframe tbody tr th:only-of-type {\n",
       "        vertical-align: middle;\n",
       "    }\n",
       "\n",
       "    .dataframe tbody tr th {\n",
       "        vertical-align: top;\n",
       "    }\n",
       "\n",
       "    .dataframe thead th {\n",
       "        text-align: right;\n",
       "    }\n",
       "</style>\n",
       "<table border=\"1\" class=\"dataframe\">\n",
       "  <thead>\n",
       "    <tr style=\"text-align: right;\">\n",
       "      <th></th>\n",
       "      <th>Month-Year</th>\n",
       "      <th>Number of Tractor Sold</th>\n",
       "      <th>Month</th>\n",
       "    </tr>\n",
       "  </thead>\n",
       "  <tbody>\n",
       "    <tr>\n",
       "      <th>0</th>\n",
       "      <td>3-Jan</td>\n",
       "      <td>141</td>\n",
       "      <td>1</td>\n",
       "    </tr>\n",
       "    <tr>\n",
       "      <th>1</th>\n",
       "      <td>3-Feb</td>\n",
       "      <td>157</td>\n",
       "      <td>2</td>\n",
       "    </tr>\n",
       "    <tr>\n",
       "      <th>2</th>\n",
       "      <td>3-Mar</td>\n",
       "      <td>185</td>\n",
       "      <td>3</td>\n",
       "    </tr>\n",
       "    <tr>\n",
       "      <th>3</th>\n",
       "      <td>3-Apr</td>\n",
       "      <td>199</td>\n",
       "      <td>4</td>\n",
       "    </tr>\n",
       "    <tr>\n",
       "      <th>4</th>\n",
       "      <td>3-May</td>\n",
       "      <td>203</td>\n",
       "      <td>5</td>\n",
       "    </tr>\n",
       "  </tbody>\n",
       "</table>\n",
       "</div>"
      ],
      "text/plain": [
       "  Month-Year  Number of Tractor Sold  Month\n",
       "0      3-Jan                     141      1\n",
       "1      3-Feb                     157      2\n",
       "2      3-Mar                     185      3\n",
       "3      3-Apr                     199      4\n",
       "4      3-May                     203      5"
      ]
     },
     "execution_count": 160,
     "metadata": {},
     "output_type": "execute_result"
    }
   ],
   "source": [
    "tractor.head()"
   ]
  },
  {
   "cell_type": "code",
   "execution_count": 161,
   "metadata": {},
   "outputs": [],
   "source": [
    "tractor['Year']=dates.year"
   ]
  },
  {
   "cell_type": "code",
   "execution_count": 162,
   "metadata": {},
   "outputs": [
    {
     "data": {
      "text/html": [
       "<div>\n",
       "<style scoped>\n",
       "    .dataframe tbody tr th:only-of-type {\n",
       "        vertical-align: middle;\n",
       "    }\n",
       "\n",
       "    .dataframe tbody tr th {\n",
       "        vertical-align: top;\n",
       "    }\n",
       "\n",
       "    .dataframe thead th {\n",
       "        text-align: right;\n",
       "    }\n",
       "</style>\n",
       "<table border=\"1\" class=\"dataframe\">\n",
       "  <thead>\n",
       "    <tr style=\"text-align: right;\">\n",
       "      <th></th>\n",
       "      <th>Month-Year</th>\n",
       "      <th>Number of Tractor Sold</th>\n",
       "      <th>Month</th>\n",
       "      <th>Year</th>\n",
       "    </tr>\n",
       "  </thead>\n",
       "  <tbody>\n",
       "    <tr>\n",
       "      <th>0</th>\n",
       "      <td>3-Jan</td>\n",
       "      <td>141</td>\n",
       "      <td>1</td>\n",
       "      <td>2003</td>\n",
       "    </tr>\n",
       "    <tr>\n",
       "      <th>1</th>\n",
       "      <td>3-Feb</td>\n",
       "      <td>157</td>\n",
       "      <td>2</td>\n",
       "      <td>2003</td>\n",
       "    </tr>\n",
       "    <tr>\n",
       "      <th>2</th>\n",
       "      <td>3-Mar</td>\n",
       "      <td>185</td>\n",
       "      <td>3</td>\n",
       "      <td>2003</td>\n",
       "    </tr>\n",
       "    <tr>\n",
       "      <th>3</th>\n",
       "      <td>3-Apr</td>\n",
       "      <td>199</td>\n",
       "      <td>4</td>\n",
       "      <td>2003</td>\n",
       "    </tr>\n",
       "    <tr>\n",
       "      <th>4</th>\n",
       "      <td>3-May</td>\n",
       "      <td>203</td>\n",
       "      <td>5</td>\n",
       "      <td>2003</td>\n",
       "    </tr>\n",
       "  </tbody>\n",
       "</table>\n",
       "</div>"
      ],
      "text/plain": [
       "  Month-Year  Number of Tractor Sold  Month  Year\n",
       "0      3-Jan                     141      1  2003\n",
       "1      3-Feb                     157      2  2003\n",
       "2      3-Mar                     185      3  2003\n",
       "3      3-Apr                     199      4  2003\n",
       "4      3-May                     203      5  2003"
      ]
     },
     "execution_count": 162,
     "metadata": {},
     "output_type": "execute_result"
    }
   ],
   "source": [
    "tractor.head()"
   ]
  },
  {
   "cell_type": "code",
   "execution_count": 163,
   "metadata": {},
   "outputs": [],
   "source": [
    "tractor.rename(columns={'Number of Tractor Sold':'tractor-sales'},inplace=True)\n",
    "tractor=tractor[['Month','Year','tractor-sales']]"
   ]
  },
  {
   "cell_type": "code",
   "execution_count": 164,
   "metadata": {},
   "outputs": [
    {
     "data": {
      "text/html": [
       "<div>\n",
       "<style scoped>\n",
       "    .dataframe tbody tr th:only-of-type {\n",
       "        vertical-align: middle;\n",
       "    }\n",
       "\n",
       "    .dataframe tbody tr th {\n",
       "        vertical-align: top;\n",
       "    }\n",
       "\n",
       "    .dataframe thead th {\n",
       "        text-align: right;\n",
       "    }\n",
       "</style>\n",
       "<table border=\"1\" class=\"dataframe\">\n",
       "  <thead>\n",
       "    <tr style=\"text-align: right;\">\n",
       "      <th></th>\n",
       "      <th>Month</th>\n",
       "      <th>Year</th>\n",
       "      <th>tractor-sales</th>\n",
       "    </tr>\n",
       "  </thead>\n",
       "  <tbody>\n",
       "    <tr>\n",
       "      <th>0</th>\n",
       "      <td>1</td>\n",
       "      <td>2003</td>\n",
       "      <td>141</td>\n",
       "    </tr>\n",
       "    <tr>\n",
       "      <th>1</th>\n",
       "      <td>2</td>\n",
       "      <td>2003</td>\n",
       "      <td>157</td>\n",
       "    </tr>\n",
       "    <tr>\n",
       "      <th>2</th>\n",
       "      <td>3</td>\n",
       "      <td>2003</td>\n",
       "      <td>185</td>\n",
       "    </tr>\n",
       "    <tr>\n",
       "      <th>3</th>\n",
       "      <td>4</td>\n",
       "      <td>2003</td>\n",
       "      <td>199</td>\n",
       "    </tr>\n",
       "    <tr>\n",
       "      <th>4</th>\n",
       "      <td>5</td>\n",
       "      <td>2003</td>\n",
       "      <td>203</td>\n",
       "    </tr>\n",
       "  </tbody>\n",
       "</table>\n",
       "</div>"
      ],
      "text/plain": [
       "   Month  Year  tractor-sales\n",
       "0      1  2003            141\n",
       "1      2  2003            157\n",
       "2      3  2003            185\n",
       "3      4  2003            199\n",
       "4      5  2003            203"
      ]
     },
     "execution_count": 164,
     "metadata": {},
     "output_type": "execute_result"
    }
   ],
   "source": [
    "tractor.head()"
   ]
  },
  {
   "cell_type": "code",
   "execution_count": 165,
   "metadata": {},
   "outputs": [],
   "source": [
    "tractor.index=dates"
   ]
  },
  {
   "cell_type": "code",
   "execution_count": 166,
   "metadata": {},
   "outputs": [],
   "source": [
    "tractor=tractor['tractor-sales']"
   ]
  },
  {
   "cell_type": "code",
   "execution_count": 167,
   "metadata": {},
   "outputs": [
    {
     "data": {
      "text/plain": [
       "2003-01-01    141\n",
       "2003-02-01    157\n",
       "2003-03-01    185\n",
       "2003-04-01    199\n",
       "2003-05-01    203\n",
       "Freq: MS, Name: tractor-sales, dtype: int64"
      ]
     },
     "execution_count": 167,
     "metadata": {},
     "output_type": "execute_result"
    }
   ],
   "source": [
    "tractor.head()"
   ]
  },
  {
   "cell_type": "code",
   "execution_count": 168,
   "metadata": {},
   "outputs": [
    {
     "data": {
      "text/plain": [
       "<matplotlib.axes._subplots.AxesSubplot at 0x13acf6dca90>"
      ]
     },
     "execution_count": 168,
     "metadata": {},
     "output_type": "execute_result"
    },
    {
     "data": {
      "image/png": "[encoded data removed]",
      "text/plain": [
       "<Figure size 432x288 with 1 Axes>"
      ]
     },
     "metadata": {
      "needs_background": "light"
     },
     "output_type": "display_data"
    }
   ],
   "source": [
    "tractor.plot()"
   ]
  },
  {
   "cell_type": "markdown",
   "metadata": {},
   "source": [
    "## decomposition of time series: additive and multiplicative problem"
   ]
  },
  {
   "cell_type": "code",
   "execution_count": 169,
   "metadata": {},
   "outputs": [],
   "source": [
    "from statsmodels.tsa.seasonal import seasonal_decompose\n",
    "import statsmodels.api as sm\n",
    "import os"
   ]
  },
  {
   "cell_type": "code",
   "execution_count": 171,
   "metadata": {},
   "outputs": [],
   "source": [
    "os.chdir('C://Users//vansh//Downloads//data')"
   ]
  },
  {
   "cell_type": "raw",
   "metadata": {},
   "source": []
  },
  {
   "cell_type": "code",
   "execution_count": 174,
   "metadata": {},
   "outputs": [],
   "source": [
    "turnover=pd.read_csv('RetailTurnover.csv',parse_dates=[['Year','Quarter']],index_col=0)"
   ]
  },
  {
   "cell_type": "code",
   "execution_count": 175,
   "metadata": {},
   "outputs": [
    {
     "data": {
      "text/html": [
       "<div>\n",
       "<style scoped>\n",
       "    .dataframe tbody tr th:only-of-type {\n",
       "        vertical-align: middle;\n",
       "    }\n",
       "\n",
       "    .dataframe tbody tr th {\n",
       "        vertical-align: top;\n",
       "    }\n",
       "\n",
       "    .dataframe thead th {\n",
       "        text-align: right;\n",
       "    }\n",
       "</style>\n",
       "<table border=\"1\" class=\"dataframe\">\n",
       "  <thead>\n",
       "    <tr style=\"text-align: right;\">\n",
       "      <th></th>\n",
       "      <th>Turnover</th>\n",
       "    </tr>\n",
       "    <tr>\n",
       "      <th>Year_Quarter</th>\n",
       "      <th></th>\n",
       "    </tr>\n",
       "  </thead>\n",
       "  <tbody>\n",
       "    <tr>\n",
       "      <th>1982 Q3</th>\n",
       "      <td>13423.2</td>\n",
       "    </tr>\n",
       "    <tr>\n",
       "      <th>1982 Q4</th>\n",
       "      <td>13128.8</td>\n",
       "    </tr>\n",
       "    <tr>\n",
       "      <th>1983 Q1</th>\n",
       "      <td>15398.8</td>\n",
       "    </tr>\n",
       "    <tr>\n",
       "      <th>1983 Q2</th>\n",
       "      <td>12964.2</td>\n",
       "    </tr>\n",
       "    <tr>\n",
       "      <th>1983 Q3</th>\n",
       "      <td>13133.5</td>\n",
       "    </tr>\n",
       "  </tbody>\n",
       "</table>\n",
       "</div>"
      ],
      "text/plain": [
       "              Turnover\n",
       "Year_Quarter          \n",
       "1982 Q3        13423.2\n",
       "1982 Q4        13128.8\n",
       "1983 Q1        15398.8\n",
       "1983 Q2        12964.2\n",
       "1983 Q3        13133.5"
      ]
     },
     "execution_count": 175,
     "metadata": {},
     "output_type": "execute_result"
    }
   ],
   "source": [
    "turnover.head()"
   ]
  },
  {
   "cell_type": "code",
   "execution_count": 178,
   "metadata": {},
   "outputs": [
    {
     "data": {
      "text/plain": [
       "<matplotlib.axes._subplots.AxesSubplot at 0x13ad37e3198>"
      ]
     },
     "execution_count": 178,
     "metadata": {},
     "output_type": "execute_result"
    },
    {
     "data": {
      "image/png": "[encoded data removed]",
      "text/plain": [
       "<Figure size 432x288 with 1 Axes>"
      ]
     },
     "metadata": {
      "needs_background": "light"
     },
     "output_type": "display_data"
    }
   ],
   "source": [
    "turnover.plot()"
   ]
  },
  {
   "cell_type": "code",
   "execution_count": 184,
   "metadata": {},
   "outputs": [
    {
     "data": {
      "image/png": "[encoded data removed]",
      "text/plain": [
       "<Figure size 432x288 with 4 Axes>"
      ]
     },
     "metadata": {
      "needs_background": "light"
     },
     "output_type": "display_data"
    }
   ],
   "source": [
    "#obs=level+trend+residual\n",
    "# freq set to 4 because it is quarterly data\n",
    "decomturnover=seasonal_decompose(turnover,freq=4,model='additive')\n",
    "decomturnover.plot()\n",
    "plt.show()"
   ]
  },
  {
   "cell_type": "code",
   "execution_count": 185,
   "metadata": {},
   "outputs": [],
   "source": [
    "trend=decomturnover.trend\n",
    "seasonal=decomturnover.seasonal\n",
    "residual=decomturnover.resid"
   ]
  },
  {
   "cell_type": "code",
   "execution_count": 186,
   "metadata": {},
   "outputs": [
    {
     "name": "stdout",
     "output_type": "stream",
     "text": [
      "Additive model output : : \n",
      "\n",
      "Trend: \n",
      "\n",
      "                Turnover\n",
      "Year_Quarter            \n",
      "1982 Q3              NaN\n",
      "1982 Q4              NaN\n",
      "1983 Q1       13692.5375\n",
      "1983 Q2       13674.1875\n",
      "1983 Q3       13716.7375\n",
      "1983 Q4       13748.1500\n",
      "1984 Q1       13789.3500\n",
      "1984 Q2       13827.8875\n",
      "1984 Q3       13866.6500\n",
      "1984 Q4       13944.9125\n",
      "1985 Q1       14062.1375\n",
      "1985 Q2       14228.4125\n",
      "\n",
      "\n",
      "Seasonal: \n",
      "\n",
      "                 Turnover\n",
      "Year_Quarter             \n",
      "1982 Q3       -524.613498\n",
      "1982 Q4       -510.713672\n",
      "1983 Q1       1894.960113\n",
      "1983 Q2       -859.632943\n",
      "1983 Q3       -524.613498\n",
      "1983 Q4       -510.713672\n",
      "1984 Q1       1894.960113\n",
      "1984 Q2       -859.632943\n",
      "1984 Q3       -524.613498\n",
      "1984 Q4       -510.713672\n",
      "1985 Q1       1894.960113\n",
      "1985 Q2       -859.632943\n",
      "\n",
      "\n",
      "residual : \n",
      "\n",
      "                Turnover\n",
      "Year_Quarter            \n",
      "1982 Q3              NaN\n",
      "1982 Q4              NaN\n",
      "1983 Q1      -188.697613\n",
      "1983 Q2       149.645443\n",
      "1983 Q3       -58.624002\n",
      "1983 Q4        34.263672\n",
      "1984 Q1       -88.010113\n",
      "1984 Q2        49.745443\n",
      "1984 Q3        67.263498\n",
      "1984 Q4      -129.998828\n",
      "1985 Q1       -83.197613\n",
      "1985 Q2        -2.279557\n"
     ]
    }
   ],
   "source": [
    "print('Additive model output : : \\n' )\n",
    "print('Trend: \\n')\n",
    "print(trend.head(12))\n",
    "print('\\n')\n",
    "print('Seasonal: \\n')\n",
    "print(seasonal.head(12))\n",
    "print('\\n')\n",
    "print('residual : \\n')\n",
    "print(residual.head(12))"
   ]
  },
  {
   "cell_type": "markdown",
   "metadata": {},
   "source": [
    "## decomposition of TS: multiplicative model"
   ]
  },
  {
   "cell_type": "code",
   "execution_count": 189,
   "metadata": {},
   "outputs": [
    {
     "data": {
      "text/html": [
       "<div>\n",
       "<style scoped>\n",
       "    .dataframe tbody tr th:only-of-type {\n",
       "        vertical-align: middle;\n",
       "    }\n",
       "\n",
       "    .dataframe tbody tr th {\n",
       "        vertical-align: top;\n",
       "    }\n",
       "\n",
       "    .dataframe thead th {\n",
       "        text-align: right;\n",
       "    }\n",
       "</style>\n",
       "<table border=\"1\" class=\"dataframe\">\n",
       "  <thead>\n",
       "    <tr style=\"text-align: right;\">\n",
       "      <th></th>\n",
       "      <th>Pax</th>\n",
       "    </tr>\n",
       "    <tr>\n",
       "      <th>Year_Month</th>\n",
       "      <th></th>\n",
       "    </tr>\n",
       "  </thead>\n",
       "  <tbody>\n",
       "    <tr>\n",
       "      <th>1949-01-01</th>\n",
       "      <td>112</td>\n",
       "    </tr>\n",
       "    <tr>\n",
       "      <th>1949-02-01</th>\n",
       "      <td>118</td>\n",
       "    </tr>\n",
       "    <tr>\n",
       "      <th>1949-03-01</th>\n",
       "      <td>132</td>\n",
       "    </tr>\n",
       "    <tr>\n",
       "      <th>1949-04-01</th>\n",
       "      <td>129</td>\n",
       "    </tr>\n",
       "    <tr>\n",
       "      <th>1949-05-01</th>\n",
       "      <td>121</td>\n",
       "    </tr>\n",
       "    <tr>\n",
       "      <th>1949-06-01</th>\n",
       "      <td>135</td>\n",
       "    </tr>\n",
       "    <tr>\n",
       "      <th>1949-07-01</th>\n",
       "      <td>148</td>\n",
       "    </tr>\n",
       "    <tr>\n",
       "      <th>1949-08-01</th>\n",
       "      <td>148</td>\n",
       "    </tr>\n",
       "    <tr>\n",
       "      <th>1949-09-01</th>\n",
       "      <td>136</td>\n",
       "    </tr>\n",
       "    <tr>\n",
       "      <th>1949-10-01</th>\n",
       "      <td>119</td>\n",
       "    </tr>\n",
       "    <tr>\n",
       "      <th>1949-11-01</th>\n",
       "      <td>104</td>\n",
       "    </tr>\n",
       "    <tr>\n",
       "      <th>1949-12-01</th>\n",
       "      <td>118</td>\n",
       "    </tr>\n",
       "    <tr>\n",
       "      <th>1950-01-01</th>\n",
       "      <td>115</td>\n",
       "    </tr>\n",
       "    <tr>\n",
       "      <th>1950-02-01</th>\n",
       "      <td>126</td>\n",
       "    </tr>\n",
       "    <tr>\n",
       "      <th>1950-03-01</th>\n",
       "      <td>141</td>\n",
       "    </tr>\n",
       "    <tr>\n",
       "      <th>1950-04-01</th>\n",
       "      <td>135</td>\n",
       "    </tr>\n",
       "    <tr>\n",
       "      <th>1950-05-01</th>\n",
       "      <td>125</td>\n",
       "    </tr>\n",
       "    <tr>\n",
       "      <th>1950-06-01</th>\n",
       "      <td>149</td>\n",
       "    </tr>\n",
       "    <tr>\n",
       "      <th>1950-07-01</th>\n",
       "      <td>170</td>\n",
       "    </tr>\n",
       "    <tr>\n",
       "      <th>1950-08-01</th>\n",
       "      <td>170</td>\n",
       "    </tr>\n",
       "    <tr>\n",
       "      <th>1950-09-01</th>\n",
       "      <td>158</td>\n",
       "    </tr>\n",
       "    <tr>\n",
       "      <th>1950-10-01</th>\n",
       "      <td>133</td>\n",
       "    </tr>\n",
       "    <tr>\n",
       "      <th>1950-11-01</th>\n",
       "      <td>114</td>\n",
       "    </tr>\n",
       "    <tr>\n",
       "      <th>1950-12-01</th>\n",
       "      <td>140</td>\n",
       "    </tr>\n",
       "    <tr>\n",
       "      <th>1951-01-01</th>\n",
       "      <td>145</td>\n",
       "    </tr>\n",
       "    <tr>\n",
       "      <th>1951-02-01</th>\n",
       "      <td>150</td>\n",
       "    </tr>\n",
       "    <tr>\n",
       "      <th>1951-03-01</th>\n",
       "      <td>178</td>\n",
       "    </tr>\n",
       "    <tr>\n",
       "      <th>1951-04-01</th>\n",
       "      <td>163</td>\n",
       "    </tr>\n",
       "    <tr>\n",
       "      <th>1951-05-01</th>\n",
       "      <td>172</td>\n",
       "    </tr>\n",
       "    <tr>\n",
       "      <th>1951-06-01</th>\n",
       "      <td>178</td>\n",
       "    </tr>\n",
       "    <tr>\n",
       "      <th>...</th>\n",
       "      <td>...</td>\n",
       "    </tr>\n",
       "    <tr>\n",
       "      <th>1958-07-01</th>\n",
       "      <td>491</td>\n",
       "    </tr>\n",
       "    <tr>\n",
       "      <th>1958-08-01</th>\n",
       "      <td>505</td>\n",
       "    </tr>\n",
       "    <tr>\n",
       "      <th>1958-09-01</th>\n",
       "      <td>404</td>\n",
       "    </tr>\n",
       "    <tr>\n",
       "      <th>1958-10-01</th>\n",
       "      <td>359</td>\n",
       "    </tr>\n",
       "    <tr>\n",
       "      <th>1958-11-01</th>\n",
       "      <td>310</td>\n",
       "    </tr>\n",
       "    <tr>\n",
       "      <th>1958-12-01</th>\n",
       "      <td>337</td>\n",
       "    </tr>\n",
       "    <tr>\n",
       "      <th>1959-01-01</th>\n",
       "      <td>360</td>\n",
       "    </tr>\n",
       "    <tr>\n",
       "      <th>1959-02-01</th>\n",
       "      <td>342</td>\n",
       "    </tr>\n",
       "    <tr>\n",
       "      <th>1959-03-01</th>\n",
       "      <td>406</td>\n",
       "    </tr>\n",
       "    <tr>\n",
       "      <th>1959-04-01</th>\n",
       "      <td>396</td>\n",
       "    </tr>\n",
       "    <tr>\n",
       "      <th>1959-05-01</th>\n",
       "      <td>420</td>\n",
       "    </tr>\n",
       "    <tr>\n",
       "      <th>1959-06-01</th>\n",
       "      <td>472</td>\n",
       "    </tr>\n",
       "    <tr>\n",
       "      <th>1959-07-01</th>\n",
       "      <td>548</td>\n",
       "    </tr>\n",
       "    <tr>\n",
       "      <th>1959-08-01</th>\n",
       "      <td>559</td>\n",
       "    </tr>\n",
       "    <tr>\n",
       "      <th>1959-09-01</th>\n",
       "      <td>463</td>\n",
       "    </tr>\n",
       "    <tr>\n",
       "      <th>1959-10-01</th>\n",
       "      <td>407</td>\n",
       "    </tr>\n",
       "    <tr>\n",
       "      <th>1959-11-01</th>\n",
       "      <td>362</td>\n",
       "    </tr>\n",
       "    <tr>\n",
       "      <th>1959-12-01</th>\n",
       "      <td>405</td>\n",
       "    </tr>\n",
       "    <tr>\n",
       "      <th>1960-01-01</th>\n",
       "      <td>417</td>\n",
       "    </tr>\n",
       "    <tr>\n",
       "      <th>1960-02-01</th>\n",
       "      <td>391</td>\n",
       "    </tr>\n",
       "    <tr>\n",
       "      <th>1960-03-01</th>\n",
       "      <td>419</td>\n",
       "    </tr>\n",
       "    <tr>\n",
       "      <th>1960-04-01</th>\n",
       "      <td>461</td>\n",
       "    </tr>\n",
       "    <tr>\n",
       "      <th>1960-05-01</th>\n",
       "      <td>472</td>\n",
       "    </tr>\n",
       "    <tr>\n",
       "      <th>1960-06-01</th>\n",
       "      <td>535</td>\n",
       "    </tr>\n",
       "    <tr>\n",
       "      <th>1960-07-01</th>\n",
       "      <td>622</td>\n",
       "    </tr>\n",
       "    <tr>\n",
       "      <th>1960-08-01</th>\n",
       "      <td>606</td>\n",
       "    </tr>\n",
       "    <tr>\n",
       "      <th>1960-09-01</th>\n",
       "      <td>508</td>\n",
       "    </tr>\n",
       "    <tr>\n",
       "      <th>1960-10-01</th>\n",
       "      <td>461</td>\n",
       "    </tr>\n",
       "    <tr>\n",
       "      <th>1960-11-01</th>\n",
       "      <td>390</td>\n",
       "    </tr>\n",
       "    <tr>\n",
       "      <th>1960-12-01</th>\n",
       "      <td>432</td>\n",
       "    </tr>\n",
       "  </tbody>\n",
       "</table>\n",
       "<p>144 rows × 1 columns</p>\n",
       "</div>"
      ],
      "text/plain": [
       "            Pax\n",
       "Year_Month     \n",
       "1949-01-01  112\n",
       "1949-02-01  118\n",
       "1949-03-01  132\n",
       "1949-04-01  129\n",
       "1949-05-01  121\n",
       "1949-06-01  135\n",
       "1949-07-01  148\n",
       "1949-08-01  148\n",
       "1949-09-01  136\n",
       "1949-10-01  119\n",
       "1949-11-01  104\n",
       "1949-12-01  118\n",
       "1950-01-01  115\n",
       "1950-02-01  126\n",
       "1950-03-01  141\n",
       "1950-04-01  135\n",
       "1950-05-01  125\n",
       "1950-06-01  149\n",
       "1950-07-01  170\n",
       "1950-08-01  170\n",
       "1950-09-01  158\n",
       "1950-10-01  133\n",
       "1950-11-01  114\n",
       "1950-12-01  140\n",
       "1951-01-01  145\n",
       "1951-02-01  150\n",
       "1951-03-01  178\n",
       "1951-04-01  163\n",
       "1951-05-01  172\n",
       "1951-06-01  178\n",
       "...         ...\n",
       "1958-07-01  491\n",
       "1958-08-01  505\n",
       "1958-09-01  404\n",
       "1958-10-01  359\n",
       "1958-11-01  310\n",
       "1958-12-01  337\n",
       "1959-01-01  360\n",
       "1959-02-01  342\n",
       "1959-03-01  406\n",
       "1959-04-01  396\n",
       "1959-05-01  420\n",
       "1959-06-01  472\n",
       "1959-07-01  548\n",
       "1959-08-01  559\n",
       "1959-09-01  463\n",
       "1959-10-01  407\n",
       "1959-11-01  362\n",
       "1959-12-01  405\n",
       "1960-01-01  417\n",
       "1960-02-01  391\n",
       "1960-03-01  419\n",
       "1960-04-01  461\n",
       "1960-05-01  472\n",
       "1960-06-01  535\n",
       "1960-07-01  622\n",
       "1960-08-01  606\n",
       "1960-09-01  508\n",
       "1960-10-01  461\n",
       "1960-11-01  390\n",
       "1960-12-01  432\n",
       "\n",
       "[144 rows x 1 columns]"
      ]
     },
     "execution_count": 189,
     "metadata": {},
     "output_type": "execute_result"
    }
   ],
   "source": [
    "AirPax=pd.read_csv('AirPax.csv',parse_dates=[['Year','Month']],index_col=0)\n",
    "AirPax"
   ]
  },
  {
   "cell_type": "code",
   "execution_count": 188,
   "metadata": {},
   "outputs": [
    {
     "data": {
      "text/plain": [
       "[<matplotlib.lines.Line2D at 0x13ad3f93c18>]"
      ]
     },
     "execution_count": 188,
     "metadata": {},
     "output_type": "execute_result"
    },
    {
     "data": {
      "image/png": "[encoded data removed]",
      "text/plain": [
       "<Figure size 432x288 with 1 Axes>"
      ]
     },
     "metadata": {
      "needs_background": "light"
     },
     "output_type": "display_data"
    }
   ],
   "source": [
    "plt.plot(AirPax)"
   ]
  },
  {
   "cell_type": "code",
   "execution_count": 190,
   "metadata": {},
   "outputs": [],
   "source": [
    "multidecom=seasonal_decompose(AirPax,model='multiplicative',freq=12)"
   ]
  },
  {
   "cell_type": "code",
   "execution_count": 193,
   "metadata": {},
   "outputs": [],
   "source": [
    "trend=multidecom.trend\n",
    "seasonal=multidecom.seasonal\n",
    "residual=multidecom.resid"
   ]
  },
  {
   "cell_type": "code",
   "execution_count": 194,
   "metadata": {},
   "outputs": [
    {
     "name": "stdout",
     "output_type": "stream",
     "text": [
      "                   Pax\n",
      "Year_Month            \n",
      "1949-01-01         NaN\n",
      "1949-02-01         NaN\n",
      "1949-03-01         NaN\n",
      "1949-04-01         NaN\n",
      "1949-05-01         NaN\n",
      "1949-06-01         NaN\n",
      "1949-07-01  126.791667\n",
      "1949-08-01  127.250000\n",
      "1949-09-01  127.958333\n",
      "1949-10-01  128.583333\n",
      "1949-11-01  129.000000\n",
      "1949-12-01  129.750000\n",
      "1950-01-01  131.250000\n",
      "1950-02-01  133.083333\n",
      "1950-03-01  134.916667\n",
      "1950-04-01  136.416667\n",
      "1950-05-01  137.416667\n",
      "1950-06-01  138.750000\n",
      "1950-07-01  140.916667\n",
      "1950-08-01  143.166667\n",
      "1950-09-01  145.708333\n",
      "1950-10-01  148.416667\n",
      "1950-11-01  151.541667\n",
      "1950-12-01  154.708333\n",
      "1951-01-01  157.125000\n",
      "1951-02-01  159.541667\n",
      "1951-03-01  161.833333\n",
      "1951-04-01  164.125000\n",
      "1951-05-01  166.666667\n",
      "1951-06-01  169.083333\n",
      "...                ...\n",
      "1958-07-01  381.833333\n",
      "1958-08-01  383.666667\n",
      "1958-09-01  386.500000\n",
      "1958-10-01  390.333333\n",
      "1958-11-01  394.708333\n",
      "1958-12-01  398.625000\n",
      "1959-01-01  402.541667\n",
      "1959-02-01  407.166667\n",
      "1959-03-01  411.875000\n",
      "1959-04-01  416.333333\n",
      "1959-05-01  420.500000\n",
      "1959-06-01  425.500000\n",
      "1959-07-01  430.708333\n",
      "1959-08-01  435.125000\n",
      "1959-09-01  437.708333\n",
      "1959-10-01  440.958333\n",
      "1959-11-01  445.833333\n",
      "1959-12-01  450.625000\n",
      "1960-01-01  456.333333\n",
      "1960-02-01  461.375000\n",
      "1960-03-01  465.208333\n",
      "1960-04-01  469.333333\n",
      "1960-05-01  472.750000\n",
      "1960-06-01  475.041667\n",
      "1960-07-01         NaN\n",
      "1960-08-01         NaN\n",
      "1960-09-01         NaN\n",
      "1960-10-01         NaN\n",
      "1960-11-01         NaN\n",
      "1960-12-01         NaN\n",
      "\n",
      "[144 rows x 1 columns]\n",
      "\n",
      "\n",
      "                 Pax\n",
      "Year_Month          \n",
      "1949-01-01  0.910230\n",
      "1949-02-01  0.883625\n",
      "1949-03-01  1.007366\n",
      "1949-04-01  0.975906\n",
      "1949-05-01  0.981378\n",
      "1949-06-01  1.112776\n",
      "1949-07-01  1.226556\n",
      "1949-08-01  1.219911\n",
      "1949-09-01  1.060492\n",
      "1949-10-01  0.921757\n",
      "1949-11-01  0.801178\n",
      "1949-12-01  0.898824\n",
      "1950-01-01  0.910230\n",
      "1950-02-01  0.883625\n",
      "1950-03-01  1.007366\n",
      "1950-04-01  0.975906\n",
      "1950-05-01  0.981378\n",
      "1950-06-01  1.112776\n",
      "1950-07-01  1.226556\n",
      "1950-08-01  1.219911\n",
      "1950-09-01  1.060492\n",
      "1950-10-01  0.921757\n",
      "1950-11-01  0.801178\n",
      "1950-12-01  0.898824\n",
      "1951-01-01  0.910230\n",
      "1951-02-01  0.883625\n",
      "1951-03-01  1.007366\n",
      "1951-04-01  0.975906\n",
      "1951-05-01  0.981378\n",
      "1951-06-01  1.112776\n",
      "...              ...\n",
      "1958-07-01  1.226556\n",
      "1958-08-01  1.219911\n",
      "1958-09-01  1.060492\n",
      "1958-10-01  0.921757\n",
      "1958-11-01  0.801178\n",
      "1958-12-01  0.898824\n",
      "1959-01-01  0.910230\n",
      "1959-02-01  0.883625\n",
      "1959-03-01  1.007366\n",
      "1959-04-01  0.975906\n",
      "1959-05-01  0.981378\n",
      "1959-06-01  1.112776\n",
      "1959-07-01  1.226556\n",
      "1959-08-01  1.219911\n",
      "1959-09-01  1.060492\n",
      "1959-10-01  0.921757\n",
      "1959-11-01  0.801178\n",
      "1959-12-01  0.898824\n",
      "1960-01-01  0.910230\n",
      "1960-02-01  0.883625\n",
      "1960-03-01  1.007366\n",
      "1960-04-01  0.975906\n",
      "1960-05-01  0.981378\n",
      "1960-06-01  1.112776\n",
      "1960-07-01  1.226556\n",
      "1960-08-01  1.219911\n",
      "1960-09-01  1.060492\n",
      "1960-10-01  0.921757\n",
      "1960-11-01  0.801178\n",
      "1960-12-01  0.898824\n",
      "\n",
      "[144 rows x 1 columns]\n",
      "\n",
      "\n",
      "                 Pax\n",
      "Year_Month          \n",
      "1949-01-01       NaN\n",
      "1949-02-01       NaN\n",
      "1949-03-01       NaN\n",
      "1949-04-01       NaN\n",
      "1949-05-01       NaN\n",
      "1949-06-01       NaN\n",
      "1949-07-01  0.951664\n",
      "1949-08-01  0.953401\n",
      "1949-09-01  1.002220\n",
      "1949-10-01  1.004028\n",
      "1949-11-01  1.006270\n",
      "1949-12-01  1.011812\n",
      "1950-01-01  0.962603\n",
      "1950-02-01  1.071467\n",
      "1950-03-01  1.037447\n",
      "1950-04-01  1.014048\n",
      "1950-05-01  0.926903\n",
      "1950-06-01  0.965041\n",
      "1950-07-01  0.983557\n",
      "1950-08-01  0.973372\n",
      "1950-09-01  1.022505\n",
      "1950-10-01  0.972193\n",
      "1950-11-01  0.938953\n",
      "1950-12-01  1.006791\n",
      "1951-01-01  1.013845\n",
      "1951-02-01  1.064018\n",
      "1951-03-01  1.091854\n",
      "1951-04-01  1.017665\n",
      "1951-05-01  1.051583\n",
      "1951-06-01  0.946044\n",
      "...              ...\n",
      "1958-07-01  1.048384\n",
      "1958-08-01  1.078970\n",
      "1958-09-01  0.985654\n",
      "1958-10-01  0.997797\n",
      "1958-11-01  0.980294\n",
      "1958-12-01  0.940569\n",
      "1959-01-01  0.982518\n",
      "1959-02-01  0.950574\n",
      "1959-03-01  0.978528\n",
      "1959-04-01  0.974644\n",
      "1959-05-01  1.017764\n",
      "1959-06-01  0.996861\n",
      "1959-07-01  1.037314\n",
      "1959-08-01  1.053100\n",
      "1959-09-01  0.997445\n",
      "1959-10-01  1.001337\n",
      "1959-11-01  1.013461\n",
      "1959-12-01  0.999919\n",
      "1960-01-01  1.003928\n",
      "1960-02-01  0.959079\n",
      "1960-03-01  0.894086\n",
      "1960-04-01  1.006495\n",
      "1960-05-01  1.017359\n",
      "1960-06-01  1.012079\n",
      "1960-07-01       NaN\n",
      "1960-08-01       NaN\n",
      "1960-09-01       NaN\n",
      "1960-10-01       NaN\n",
      "1960-11-01       NaN\n",
      "1960-12-01       NaN\n",
      "\n",
      "[144 rows x 1 columns]\n"
     ]
    }
   ],
   "source": [
    "print(trend)\n",
    "print('\\n')\n",
    "print(seasonal)\n",
    "print('\\n')\n",
    "print(residual)"
   ]
  },
  {
   "cell_type": "code",
   "execution_count": null,
   "metadata": {},
   "outputs": [],
   "source": []
  }
 ],
 "metadata": {
  "kernelspec": {
   "display_name": "Python 3",
   "language": "python",
   "name": "python3"
  },
  "language_info": {
   "codemirror_mode": {
    "name": "ipython",
    "version": 3
   },
   "file_extension": ".py",
   "mimetype": "text/x-python",
   "name": "python",
   "nbconvert_exporter": "python",
   "pygments_lexer": "ipython3",
   "version": "3.7.1"
  }
 },
 "nbformat": 4,
 "nbformat_minor": 2
}
